{
 "cells": [
  {
   "cell_type": "markdown",
   "id": "3ec282e4-3e21-4df1-8e70-a13fd68e5043",
   "metadata": {},
   "source": [
    "### 5. You have been given a dataset demo.csv having independent features as x1, x2, x3, x4, x5, x6, x7 and dependent feature as y with value either 0 or 1. All independent features are continuous data except x1 and x2, which are having nominal data. Now write python program for the following:"
   ]
  },
  {
   "cell_type": "code",
   "execution_count": 1,
   "id": "d17c7b5a-0fe4-48f4-ada9-76f509130617",
   "metadata": {},
   "outputs": [],
   "source": [
    "import pandas as pd\n",
    "import numpy as np"
   ]
  },
  {
   "cell_type": "code",
   "execution_count": 17,
   "id": "8a1b4088-c48e-4ae6-aed2-73fd927efd5a",
   "metadata": {},
   "outputs": [],
   "source": [
    "x1_labels = ['Laptop', 'Mobile', 'Camera', 'Keyboard', 'Mouse']\n",
    "x2_labels = ['Green', 'Blue', 'Black', 'Orange', 'Pink']"
   ]
  },
  {
   "cell_type": "code",
   "execution_count": 21,
   "id": "788af385-6074-475b-b841-23fc918ed3fa",
   "metadata": {},
   "outputs": [
    {
     "data": {
      "text/plain": [
       "array([['Mouse', 'Mobile', 'Mouse', ..., 'Keyboard', 'Mobile', 'Camera']],\n",
       "      dtype='<U8')"
      ]
     },
     "execution_count": 21,
     "metadata": {},
     "output_type": "execute_result"
    }
   ],
   "source": [
    "x1 = np.random.choice(x1_labels, (1, 10000))\n",
    "x1"
   ]
  },
  {
   "cell_type": "code",
   "execution_count": 22,
   "id": "0cfe2231-26d9-42eb-8faf-bbdcc35867e3",
   "metadata": {},
   "outputs": [
    {
     "data": {
      "text/plain": [
       "array([['Orange', 'Pink', 'Black', ..., 'Pink', 'Green', 'Black']],\n",
       "      dtype='<U6')"
      ]
     },
     "execution_count": 22,
     "metadata": {},
     "output_type": "execute_result"
    }
   ],
   "source": [
    "x2 = np.random.choice(x2_labels, (1, 10000))\n",
    "x2"
   ]
  },
  {
   "cell_type": "code",
   "execution_count": 24,
   "id": "9f75afd6-1bf5-4ee8-bc15-bfd268251bd5",
   "metadata": {},
   "outputs": [],
   "source": [
    "x3 = np.random.rand(1, 10000)\n",
    "x4 = np.random.rand(1, 10000)\n",
    "x5 = np.random.rand(1, 10000)\n",
    "x6 = np.random.rand(1, 10000)\n",
    "x7 = np.random.rand(1, 10000)"
   ]
  },
  {
   "cell_type": "code",
   "execution_count": 25,
   "id": "eb40436f-fe3f-479b-a16c-9145706c79c4",
   "metadata": {},
   "outputs": [],
   "source": [
    "y = np.random.randint(0, 2, (1, 10000))"
   ]
  },
  {
   "cell_type": "code",
   "execution_count": 35,
   "id": "ab2639f9-d951-4cab-ba03-7db242815cb4",
   "metadata": {},
   "outputs": [],
   "source": [
    "x1_flat = x1.flatten() \n",
    "x2_flat = x2.flatten() \n",
    "x3_flat = x3.flatten() \n",
    "x4_flat = x4.flatten() \n",
    "x5_flat = x5.flatten() \n",
    "x6_flat = x6.flatten() \n",
    "x7_flat = x7.flatten() \n",
    "y_flat = y.flatten() "
   ]
  },
  {
   "cell_type": "code",
   "execution_count": 37,
   "id": "1e06db40-bd3a-4602-9b4a-92bdbdc3d41b",
   "metadata": {},
   "outputs": [],
   "source": [
    "df = pd.DataFrame({ \n",
    "    'x1': x1_flat, \n",
    "    'x2': x2_flat, \n",
    "    'x3': x3_flat, \n",
    "    'x4': x4_flat, \n",
    "    'x5': x5_flat, \n",
    "    'x6': x6_flat, \n",
    "    'x7': x7_flat, \n",
    "    'y': y_flat\n",
    "})"
   ]
  },
  {
   "cell_type": "code",
   "execution_count": 38,
   "id": "3829c64e-5565-46f7-980c-b8dae0b0e916",
   "metadata": {},
   "outputs": [
    {
     "data": {
      "text/html": [
       "<div>\n",
       "<style scoped>\n",
       "    .dataframe tbody tr th:only-of-type {\n",
       "        vertical-align: middle;\n",
       "    }\n",
       "\n",
       "    .dataframe tbody tr th {\n",
       "        vertical-align: top;\n",
       "    }\n",
       "\n",
       "    .dataframe thead th {\n",
       "        text-align: right;\n",
       "    }\n",
       "</style>\n",
       "<table border=\"1\" class=\"dataframe\">\n",
       "  <thead>\n",
       "    <tr style=\"text-align: right;\">\n",
       "      <th></th>\n",
       "      <th>x1</th>\n",
       "      <th>x2</th>\n",
       "      <th>x3</th>\n",
       "      <th>x4</th>\n",
       "      <th>x5</th>\n",
       "      <th>x6</th>\n",
       "      <th>x7</th>\n",
       "      <th>y</th>\n",
       "    </tr>\n",
       "  </thead>\n",
       "  <tbody>\n",
       "    <tr>\n",
       "      <th>0</th>\n",
       "      <td>Mouse</td>\n",
       "      <td>Orange</td>\n",
       "      <td>0.670450</td>\n",
       "      <td>0.330777</td>\n",
       "      <td>0.433391</td>\n",
       "      <td>0.476752</td>\n",
       "      <td>0.559120</td>\n",
       "      <td>1</td>\n",
       "    </tr>\n",
       "    <tr>\n",
       "      <th>1</th>\n",
       "      <td>Mobile</td>\n",
       "      <td>Pink</td>\n",
       "      <td>0.593397</td>\n",
       "      <td>0.753943</td>\n",
       "      <td>0.796742</td>\n",
       "      <td>0.739442</td>\n",
       "      <td>0.817386</td>\n",
       "      <td>0</td>\n",
       "    </tr>\n",
       "    <tr>\n",
       "      <th>2</th>\n",
       "      <td>Mouse</td>\n",
       "      <td>Black</td>\n",
       "      <td>0.450039</td>\n",
       "      <td>0.121755</td>\n",
       "      <td>0.626250</td>\n",
       "      <td>0.426022</td>\n",
       "      <td>0.038697</td>\n",
       "      <td>1</td>\n",
       "    </tr>\n",
       "    <tr>\n",
       "      <th>3</th>\n",
       "      <td>Mouse</td>\n",
       "      <td>Black</td>\n",
       "      <td>0.118078</td>\n",
       "      <td>0.575930</td>\n",
       "      <td>0.036303</td>\n",
       "      <td>0.162461</td>\n",
       "      <td>0.739585</td>\n",
       "      <td>1</td>\n",
       "    </tr>\n",
       "    <tr>\n",
       "      <th>4</th>\n",
       "      <td>Mobile</td>\n",
       "      <td>Blue</td>\n",
       "      <td>0.573685</td>\n",
       "      <td>0.635397</td>\n",
       "      <td>0.030197</td>\n",
       "      <td>0.924211</td>\n",
       "      <td>0.521699</td>\n",
       "      <td>0</td>\n",
       "    </tr>\n",
       "  </tbody>\n",
       "</table>\n",
       "</div>"
      ],
      "text/plain": [
       "       x1      x2        x3        x4        x5        x6        x7  y\n",
       "0   Mouse  Orange  0.670450  0.330777  0.433391  0.476752  0.559120  1\n",
       "1  Mobile    Pink  0.593397  0.753943  0.796742  0.739442  0.817386  0\n",
       "2   Mouse   Black  0.450039  0.121755  0.626250  0.426022  0.038697  1\n",
       "3   Mouse   Black  0.118078  0.575930  0.036303  0.162461  0.739585  1\n",
       "4  Mobile    Blue  0.573685  0.635397  0.030197  0.924211  0.521699  0"
      ]
     },
     "execution_count": 38,
     "metadata": {},
     "output_type": "execute_result"
    }
   ],
   "source": [
    "df.head()"
   ]
  },
  {
   "cell_type": "code",
   "execution_count": 39,
   "id": "0ee951eb-28fc-46ff-b7cc-852b70b1fbb4",
   "metadata": {},
   "outputs": [
    {
     "data": {
      "text/plain": [
       "(10000, 8)"
      ]
     },
     "execution_count": 39,
     "metadata": {},
     "output_type": "execute_result"
    }
   ],
   "source": [
    "df.shape"
   ]
  },
  {
   "cell_type": "markdown",
   "id": "e3d2d22e-3772-4d9f-99d0-f1d983302d9f",
   "metadata": {},
   "source": [
    "#### a. Clean independent features "
   ]
  },
  {
   "cell_type": "code",
   "execution_count": 45,
   "id": "6de7b124-c704-4c62-8ea5-5a104de5e5fa",
   "metadata": {},
   "outputs": [
    {
     "data": {
      "text/html": [
       "<div>\n",
       "<style scoped>\n",
       "    .dataframe tbody tr th:only-of-type {\n",
       "        vertical-align: middle;\n",
       "    }\n",
       "\n",
       "    .dataframe tbody tr th {\n",
       "        vertical-align: top;\n",
       "    }\n",
       "\n",
       "    .dataframe thead th {\n",
       "        text-align: right;\n",
       "    }\n",
       "</style>\n",
       "<table border=\"1\" class=\"dataframe\">\n",
       "  <thead>\n",
       "    <tr style=\"text-align: right;\">\n",
       "      <th></th>\n",
       "      <th>x3</th>\n",
       "      <th>x4</th>\n",
       "      <th>x5</th>\n",
       "      <th>x6</th>\n",
       "      <th>x7</th>\n",
       "      <th>y</th>\n",
       "    </tr>\n",
       "  </thead>\n",
       "  <tbody>\n",
       "    <tr>\n",
       "      <th>count</th>\n",
       "      <td>10000.000000</td>\n",
       "      <td>10000.000000</td>\n",
       "      <td>10000.000000</td>\n",
       "      <td>10000.000000</td>\n",
       "      <td>10000.000000</td>\n",
       "      <td>10000.00000</td>\n",
       "    </tr>\n",
       "    <tr>\n",
       "      <th>mean</th>\n",
       "      <td>0.502861</td>\n",
       "      <td>0.502745</td>\n",
       "      <td>0.493921</td>\n",
       "      <td>0.502363</td>\n",
       "      <td>0.502747</td>\n",
       "      <td>0.50220</td>\n",
       "    </tr>\n",
       "    <tr>\n",
       "      <th>std</th>\n",
       "      <td>0.289715</td>\n",
       "      <td>0.288940</td>\n",
       "      <td>0.285844</td>\n",
       "      <td>0.287208</td>\n",
       "      <td>0.290456</td>\n",
       "      <td>0.50002</td>\n",
       "    </tr>\n",
       "    <tr>\n",
       "      <th>min</th>\n",
       "      <td>0.000082</td>\n",
       "      <td>0.000036</td>\n",
       "      <td>0.000092</td>\n",
       "      <td>0.000208</td>\n",
       "      <td>0.000136</td>\n",
       "      <td>0.00000</td>\n",
       "    </tr>\n",
       "    <tr>\n",
       "      <th>25%</th>\n",
       "      <td>0.251350</td>\n",
       "      <td>0.251677</td>\n",
       "      <td>0.247542</td>\n",
       "      <td>0.256339</td>\n",
       "      <td>0.249308</td>\n",
       "      <td>0.00000</td>\n",
       "    </tr>\n",
       "    <tr>\n",
       "      <th>50%</th>\n",
       "      <td>0.506181</td>\n",
       "      <td>0.504697</td>\n",
       "      <td>0.492360</td>\n",
       "      <td>0.501655</td>\n",
       "      <td>0.502791</td>\n",
       "      <td>1.00000</td>\n",
       "    </tr>\n",
       "    <tr>\n",
       "      <th>75%</th>\n",
       "      <td>0.754950</td>\n",
       "      <td>0.753434</td>\n",
       "      <td>0.737648</td>\n",
       "      <td>0.750338</td>\n",
       "      <td>0.755662</td>\n",
       "      <td>1.00000</td>\n",
       "    </tr>\n",
       "    <tr>\n",
       "      <th>max</th>\n",
       "      <td>0.999699</td>\n",
       "      <td>0.999938</td>\n",
       "      <td>0.999421</td>\n",
       "      <td>0.999979</td>\n",
       "      <td>0.999893</td>\n",
       "      <td>1.00000</td>\n",
       "    </tr>\n",
       "  </tbody>\n",
       "</table>\n",
       "</div>"
      ],
      "text/plain": [
       "                 x3            x4            x5            x6            x7  \\\n",
       "count  10000.000000  10000.000000  10000.000000  10000.000000  10000.000000   \n",
       "mean       0.502861      0.502745      0.493921      0.502363      0.502747   \n",
       "std        0.289715      0.288940      0.285844      0.287208      0.290456   \n",
       "min        0.000082      0.000036      0.000092      0.000208      0.000136   \n",
       "25%        0.251350      0.251677      0.247542      0.256339      0.249308   \n",
       "50%        0.506181      0.504697      0.492360      0.501655      0.502791   \n",
       "75%        0.754950      0.753434      0.737648      0.750338      0.755662   \n",
       "max        0.999699      0.999938      0.999421      0.999979      0.999893   \n",
       "\n",
       "                 y  \n",
       "count  10000.00000  \n",
       "mean       0.50220  \n",
       "std        0.50002  \n",
       "min        0.00000  \n",
       "25%        0.00000  \n",
       "50%        1.00000  \n",
       "75%        1.00000  \n",
       "max        1.00000  "
      ]
     },
     "execution_count": 45,
     "metadata": {},
     "output_type": "execute_result"
    }
   ],
   "source": [
    "df.describe()"
   ]
  },
  {
   "cell_type": "code",
   "execution_count": 44,
   "id": "3b845b96-9721-4519-b847-f943b20a539c",
   "metadata": {},
   "outputs": [
    {
     "name": "stdout",
     "output_type": "stream",
     "text": [
      "<class 'pandas.core.frame.DataFrame'>\n",
      "RangeIndex: 10000 entries, 0 to 9999\n",
      "Data columns (total 8 columns):\n",
      " #   Column  Non-Null Count  Dtype  \n",
      "---  ------  --------------  -----  \n",
      " 0   x1      10000 non-null  object \n",
      " 1   x2      10000 non-null  object \n",
      " 2   x3      10000 non-null  float64\n",
      " 3   x4      10000 non-null  float64\n",
      " 4   x5      10000 non-null  float64\n",
      " 5   x6      10000 non-null  float64\n",
      " 6   x7      10000 non-null  float64\n",
      " 7   y       10000 non-null  int32  \n",
      "dtypes: float64(5), int32(1), object(2)\n",
      "memory usage: 586.1+ KB\n"
     ]
    }
   ],
   "source": [
    "df.info()"
   ]
  },
  {
   "cell_type": "code",
   "execution_count": 46,
   "id": "f7d13099-cb0f-4104-bbd5-68cb5975691d",
   "metadata": {},
   "outputs": [],
   "source": [
    "from sklearn.preprocessing import LabelEncoder"
   ]
  },
  {
   "cell_type": "code",
   "execution_count": 47,
   "id": "682f245f-8c5c-43f5-9de3-c9d4354c7c5e",
   "metadata": {},
   "outputs": [],
   "source": [
    "lb = LabelEncoder()"
   ]
  },
  {
   "cell_type": "code",
   "execution_count": 50,
   "id": "ed2294fe-a746-421d-997b-2ff7751f2649",
   "metadata": {},
   "outputs": [],
   "source": [
    "df['x1'] = lb.fit_transform(df['x1'])\n",
    "df['x2'] = lb.fit_transform(df['x2'])"
   ]
  },
  {
   "cell_type": "code",
   "execution_count": 51,
   "id": "c4de1a95-50f5-43f6-8a97-1dbad57dfd4c",
   "metadata": {},
   "outputs": [
    {
     "data": {
      "text/html": [
       "<div>\n",
       "<style scoped>\n",
       "    .dataframe tbody tr th:only-of-type {\n",
       "        vertical-align: middle;\n",
       "    }\n",
       "\n",
       "    .dataframe tbody tr th {\n",
       "        vertical-align: top;\n",
       "    }\n",
       "\n",
       "    .dataframe thead th {\n",
       "        text-align: right;\n",
       "    }\n",
       "</style>\n",
       "<table border=\"1\" class=\"dataframe\">\n",
       "  <thead>\n",
       "    <tr style=\"text-align: right;\">\n",
       "      <th></th>\n",
       "      <th>x1</th>\n",
       "      <th>x2</th>\n",
       "      <th>x3</th>\n",
       "      <th>x4</th>\n",
       "      <th>x5</th>\n",
       "      <th>x6</th>\n",
       "      <th>x7</th>\n",
       "      <th>y</th>\n",
       "    </tr>\n",
       "  </thead>\n",
       "  <tbody>\n",
       "    <tr>\n",
       "      <th>0</th>\n",
       "      <td>4</td>\n",
       "      <td>3</td>\n",
       "      <td>0.670450</td>\n",
       "      <td>0.330777</td>\n",
       "      <td>0.433391</td>\n",
       "      <td>0.476752</td>\n",
       "      <td>0.559120</td>\n",
       "      <td>1</td>\n",
       "    </tr>\n",
       "    <tr>\n",
       "      <th>1</th>\n",
       "      <td>3</td>\n",
       "      <td>4</td>\n",
       "      <td>0.593397</td>\n",
       "      <td>0.753943</td>\n",
       "      <td>0.796742</td>\n",
       "      <td>0.739442</td>\n",
       "      <td>0.817386</td>\n",
       "      <td>0</td>\n",
       "    </tr>\n",
       "    <tr>\n",
       "      <th>2</th>\n",
       "      <td>4</td>\n",
       "      <td>0</td>\n",
       "      <td>0.450039</td>\n",
       "      <td>0.121755</td>\n",
       "      <td>0.626250</td>\n",
       "      <td>0.426022</td>\n",
       "      <td>0.038697</td>\n",
       "      <td>1</td>\n",
       "    </tr>\n",
       "    <tr>\n",
       "      <th>3</th>\n",
       "      <td>4</td>\n",
       "      <td>0</td>\n",
       "      <td>0.118078</td>\n",
       "      <td>0.575930</td>\n",
       "      <td>0.036303</td>\n",
       "      <td>0.162461</td>\n",
       "      <td>0.739585</td>\n",
       "      <td>1</td>\n",
       "    </tr>\n",
       "    <tr>\n",
       "      <th>4</th>\n",
       "      <td>3</td>\n",
       "      <td>1</td>\n",
       "      <td>0.573685</td>\n",
       "      <td>0.635397</td>\n",
       "      <td>0.030197</td>\n",
       "      <td>0.924211</td>\n",
       "      <td>0.521699</td>\n",
       "      <td>0</td>\n",
       "    </tr>\n",
       "  </tbody>\n",
       "</table>\n",
       "</div>"
      ],
      "text/plain": [
       "   x1  x2        x3        x4        x5        x6        x7  y\n",
       "0   4   3  0.670450  0.330777  0.433391  0.476752  0.559120  1\n",
       "1   3   4  0.593397  0.753943  0.796742  0.739442  0.817386  0\n",
       "2   4   0  0.450039  0.121755  0.626250  0.426022  0.038697  1\n",
       "3   4   0  0.118078  0.575930  0.036303  0.162461  0.739585  1\n",
       "4   3   1  0.573685  0.635397  0.030197  0.924211  0.521699  0"
      ]
     },
     "execution_count": 51,
     "metadata": {},
     "output_type": "execute_result"
    }
   ],
   "source": [
    "df.head()"
   ]
  },
  {
   "cell_type": "markdown",
   "id": "ac846502-0cec-4ba9-a2f8-8739794849a7",
   "metadata": {},
   "source": [
    "#### b. Add one more feature x8 having values between 0 and 1. "
   ]
  },
  {
   "cell_type": "code",
   "execution_count": 62,
   "id": "0cbb3deb-2409-4511-bc0f-c906e7ca0ab6",
   "metadata": {},
   "outputs": [],
   "source": [
    "x8 = np.random.rand(1, 10000)\n",
    "x8_flat = x8.flatten()"
   ]
  },
  {
   "cell_type": "code",
   "execution_count": 64,
   "id": "c27fb589-201f-48e8-9f62-d060101cc904",
   "metadata": {},
   "outputs": [],
   "source": [
    "df['x8'] = x8_flat"
   ]
  },
  {
   "cell_type": "code",
   "execution_count": 65,
   "id": "ee6953db-da5b-405b-8ad8-fee1ab63c384",
   "metadata": {},
   "outputs": [
    {
     "data": {
      "text/html": [
       "<div>\n",
       "<style scoped>\n",
       "    .dataframe tbody tr th:only-of-type {\n",
       "        vertical-align: middle;\n",
       "    }\n",
       "\n",
       "    .dataframe tbody tr th {\n",
       "        vertical-align: top;\n",
       "    }\n",
       "\n",
       "    .dataframe thead th {\n",
       "        text-align: right;\n",
       "    }\n",
       "</style>\n",
       "<table border=\"1\" class=\"dataframe\">\n",
       "  <thead>\n",
       "    <tr style=\"text-align: right;\">\n",
       "      <th></th>\n",
       "      <th>x1</th>\n",
       "      <th>x2</th>\n",
       "      <th>x3</th>\n",
       "      <th>x4</th>\n",
       "      <th>x5</th>\n",
       "      <th>x6</th>\n",
       "      <th>x7</th>\n",
       "      <th>y</th>\n",
       "      <th>x8</th>\n",
       "    </tr>\n",
       "  </thead>\n",
       "  <tbody>\n",
       "    <tr>\n",
       "      <th>0</th>\n",
       "      <td>4</td>\n",
       "      <td>3</td>\n",
       "      <td>0.670450</td>\n",
       "      <td>0.330777</td>\n",
       "      <td>0.433391</td>\n",
       "      <td>0.476752</td>\n",
       "      <td>0.559120</td>\n",
       "      <td>1</td>\n",
       "      <td>0.535795</td>\n",
       "    </tr>\n",
       "    <tr>\n",
       "      <th>1</th>\n",
       "      <td>3</td>\n",
       "      <td>4</td>\n",
       "      <td>0.593397</td>\n",
       "      <td>0.753943</td>\n",
       "      <td>0.796742</td>\n",
       "      <td>0.739442</td>\n",
       "      <td>0.817386</td>\n",
       "      <td>0</td>\n",
       "      <td>0.999198</td>\n",
       "    </tr>\n",
       "    <tr>\n",
       "      <th>2</th>\n",
       "      <td>4</td>\n",
       "      <td>0</td>\n",
       "      <td>0.450039</td>\n",
       "      <td>0.121755</td>\n",
       "      <td>0.626250</td>\n",
       "      <td>0.426022</td>\n",
       "      <td>0.038697</td>\n",
       "      <td>1</td>\n",
       "      <td>0.227313</td>\n",
       "    </tr>\n",
       "    <tr>\n",
       "      <th>3</th>\n",
       "      <td>4</td>\n",
       "      <td>0</td>\n",
       "      <td>0.118078</td>\n",
       "      <td>0.575930</td>\n",
       "      <td>0.036303</td>\n",
       "      <td>0.162461</td>\n",
       "      <td>0.739585</td>\n",
       "      <td>1</td>\n",
       "      <td>0.891442</td>\n",
       "    </tr>\n",
       "    <tr>\n",
       "      <th>4</th>\n",
       "      <td>3</td>\n",
       "      <td>1</td>\n",
       "      <td>0.573685</td>\n",
       "      <td>0.635397</td>\n",
       "      <td>0.030197</td>\n",
       "      <td>0.924211</td>\n",
       "      <td>0.521699</td>\n",
       "      <td>0</td>\n",
       "      <td>0.301696</td>\n",
       "    </tr>\n",
       "  </tbody>\n",
       "</table>\n",
       "</div>"
      ],
      "text/plain": [
       "   x1  x2        x3        x4        x5        x6        x7  y        x8\n",
       "0   4   3  0.670450  0.330777  0.433391  0.476752  0.559120  1  0.535795\n",
       "1   3   4  0.593397  0.753943  0.796742  0.739442  0.817386  0  0.999198\n",
       "2   4   0  0.450039  0.121755  0.626250  0.426022  0.038697  1  0.227313\n",
       "3   4   0  0.118078  0.575930  0.036303  0.162461  0.739585  1  0.891442\n",
       "4   3   1  0.573685  0.635397  0.030197  0.924211  0.521699  0  0.301696"
      ]
     },
     "execution_count": 65,
     "metadata": {},
     "output_type": "execute_result"
    }
   ],
   "source": [
    "df.head()"
   ]
  },
  {
   "cell_type": "markdown",
   "id": "cccfde8f-69fc-43dd-b12b-2349771b6c22",
   "metadata": {},
   "source": [
    "#### c. Perform scaling "
   ]
  },
  {
   "cell_type": "code",
   "execution_count": null,
   "id": "2d21ab46-47fb-48a3-8f7f-6c329fe8a12e",
   "metadata": {},
   "outputs": [],
   "source": []
  },
  {
   "cell_type": "markdown",
   "id": "1fd9c352-46ad-470e-863f-d40f9eacb829",
   "metadata": {},
   "source": [
    "#### d. Train this dataset using Logistic regression, Decision Tree and Random Forest. Compare the performance of all the models based on accuracy and F1 score. "
   ]
  },
  {
   "cell_type": "code",
   "execution_count": null,
   "id": "f74c5c08-1097-4e30-ade3-a84d958b72ba",
   "metadata": {},
   "outputs": [],
   "source": []
  },
  {
   "cell_type": "markdown",
   "id": "cf5963dd-967b-4ad2-9f0e-2c58e970b56e",
   "metadata": {},
   "source": [
    "#### e. Draw confusion matrix of each model "
   ]
  },
  {
   "cell_type": "code",
   "execution_count": null,
   "id": "92637eba-4ebc-4574-aed1-9e25f2deca63",
   "metadata": {},
   "outputs": [],
   "source": []
  }
 ],
 "metadata": {
  "kernelspec": {
   "display_name": "Python 3 (ipykernel)",
   "language": "python",
   "name": "python3"
  },
  "language_info": {
   "codemirror_mode": {
    "name": "ipython",
    "version": 3
   },
   "file_extension": ".py",
   "mimetype": "text/x-python",
   "name": "python",
   "nbconvert_exporter": "python",
   "pygments_lexer": "ipython3",
   "version": "3.12.3"
  }
 },
 "nbformat": 4,
 "nbformat_minor": 5
}
