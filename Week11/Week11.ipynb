{
 "cells": [
  {
   "cell_type": "markdown",
   "id": "79915362-bbb8-4558-9723-7515ea41709f",
   "metadata": {},
   "source": [
    "### 1. Write a shell script to check if a file exists and display an appropriate message. \n",
    "\n",
    "1. First create an empty file with `.sh` extension, by writing `nano check_exist.sh`.\n",
    "2. Enter the commands:<br>\n",
    "`if [ -e \"$1\" ]; then`<br>\n",
    "`  echo \"File exists.\"`<br>\n",
    "`else`<br>\n",
    "`  echo \"File does not exist.\"`<br>\n",
    "`fi`\n",
    "\n",
    "3. Save by `CTRL + X`, then press `Y` and then `Enter`\n",
    "4. Provide excecuting permission by `chmod +x check_exist.sh`\n",
    "5. Run the file by typing `./check_exist.sh file.txt`"
   ]
  },
  {
   "cell_type": "markdown",
   "id": "d74405cb-c142-45f4-9f81-a3dfa6697f2e",
   "metadata": {},
   "source": [
    "### 2. Write a shell script to find the factorial of a number using loops. \n",
    "\n",
    "1. First create an empty file with `.sh` extension, by writing `nano factorial.sh`.\n",
    "2. Enter the commands:<br>\n",
    "`echo \"Enter a number:\"`<br>\n",
    "`read num`<br>\n",
    "`fact=1`<br>\n",
    "`for (( i=1; i<=num; i++ ))`<br>\n",
    "`do`<br>\n",
    "`fact=$((fact * i)) `<br>\n",
    "`done`<br>\n",
    "`echo \"Factorial of $num is $fact.\"`\n",
    "\n",
    "4. Save by `CTRL + X`, then press `Y` and then `Enter`\n",
    "5. Provide excecuting permission by `chmod +x factorial.sh`\n",
    "6. Run the file by typing `./factorial.sh`"
   ]
  },
  {
   "cell_type": "markdown",
   "id": "04198423-1f63-4df4-b004-2947345896ce",
   "metadata": {},
   "source": [
    "### 3. Write a shell script to demonstrate the use of conditionals (if-else statements).\n",
    "\n",
    "1. First create an empty file with `.sh` extension, by writing `nano compare.sh`.\n",
    "2. Enter the commands:<br>\n",
    "`echo \"Enter a number:\"`<br>\n",
    "`read num`<br>\n",
    "`if [ $num -gt 0 ]; then`<br>\n",
    "`  echo \"Positive number.\"`<br>\n",
    "`elif [ $num -lt 0 ]; then`<br>\n",
    "`  echo \"Negative number.\"`<br>\n",
    "`else`<br>\n",
    "`  echo \"Zero.\"`<br>\n",
    "`fi`<br>\n",
    "\n",
    "4. Save by `CTRL + X`, then press `Y` and then `Enter`\n",
    "5. Provide excecuting permission by `chmod +x compare.sh`\n",
    "6. Run the file by typing `./compare.sh`"
   ]
  },
  {
   "cell_type": "markdown",
   "id": "3a6ad37a-d63e-40fd-ab15-99c5d575a151",
   "metadata": {},
   "source": [
    "### 4. Write a shell script to create and use a simple function. \n",
    "\n",
    "1. First create an empty file with `.sh` extension, by writing `nano create_func.sh`.\n",
    "2. Enter the commands:<br>\n",
    "`function greet {`<br>\n",
    "`echo \"Hello, $1!\"`<br>\n",
    "`}`<br>\n",
    "`echo \"Enter a name:\"`<br>\n",
    "`read name`<br>\n",
    "`greet \"$name\"`<br>\n",
    "\n",
    "4. Save by `CTRL + X`, then press `Y` and then `Enter`\n",
    "5. Provide excecuting permission by `chmod +x create_func.sh`\n",
    "6. Run the file by typing `./create_func.sh`"
   ]
  },
  {
   "cell_type": "markdown",
   "id": "3ec282e4-3e21-4df1-8e70-a13fd68e5043",
   "metadata": {},
   "source": [
    "### 5. You have been given a dataset demo.csv having independent features as x1, x2, x3, x4, x5, x6, x7 and dependent feature as y with value either 0 or 1. All independent features are continuous data except x1 and x2, which are having nominal data. Now write python program for the following:"
   ]
  },
  {
   "cell_type": "code",
   "execution_count": 1,
   "id": "d17c7b5a-0fe4-48f4-ada9-76f509130617",
   "metadata": {},
   "outputs": [],
   "source": [
    "import pandas as pd\n",
    "import numpy as np"
   ]
  },
  {
   "cell_type": "code",
   "execution_count": 2,
   "id": "8a1b4088-c48e-4ae6-aed2-73fd927efd5a",
   "metadata": {},
   "outputs": [],
   "source": [
    "x1_labels = ['Laptop', 'Mobile', 'Camera', 'Keyboard', 'Mouse']\n",
    "x2_labels = ['Green', 'Blue', 'Black', 'Orange', 'Pink']"
   ]
  },
  {
   "cell_type": "code",
   "execution_count": 3,
   "id": "788af385-6074-475b-b841-23fc918ed3fa",
   "metadata": {},
   "outputs": [
    {
     "data": {
      "text/plain": [
       "array([['Keyboard', 'Laptop', 'Mouse', ..., 'Mouse', 'Laptop', 'Mouse']],\n",
       "      dtype='<U8')"
      ]
     },
     "execution_count": 3,
     "metadata": {},
     "output_type": "execute_result"
    }
   ],
   "source": [
    "x1 = np.random.choice(x1_labels, (1, 10000))\n",
    "x1"
   ]
  },
  {
   "cell_type": "code",
   "execution_count": 4,
   "id": "0cfe2231-26d9-42eb-8faf-bbdcc35867e3",
   "metadata": {},
   "outputs": [
    {
     "data": {
      "text/plain": [
       "array([['Green', 'Pink', 'Orange', ..., 'Orange', 'Pink', 'Blue']],\n",
       "      dtype='<U6')"
      ]
     },
     "execution_count": 4,
     "metadata": {},
     "output_type": "execute_result"
    }
   ],
   "source": [
    "x2 = np.random.choice(x2_labels, (1, 10000))\n",
    "x2"
   ]
  },
  {
   "cell_type": "code",
   "execution_count": 5,
   "id": "9f75afd6-1bf5-4ee8-bc15-bfd268251bd5",
   "metadata": {},
   "outputs": [],
   "source": [
    "x3 = np.random.rand(1, 10000)\n",
    "x4 = np.random.rand(1, 10000)\n",
    "x5 = np.random.rand(1, 10000)\n",
    "x6 = np.random.rand(1, 10000)\n",
    "x7 = np.random.rand(1, 10000)"
   ]
  },
  {
   "cell_type": "code",
   "execution_count": 6,
   "id": "eb40436f-fe3f-479b-a16c-9145706c79c4",
   "metadata": {},
   "outputs": [],
   "source": [
    "y = np.random.randint(0, 2, (1, 10000))"
   ]
  },
  {
   "cell_type": "code",
   "execution_count": 7,
   "id": "ab2639f9-d951-4cab-ba03-7db242815cb4",
   "metadata": {},
   "outputs": [],
   "source": [
    "x1_flat = x1.flatten() \n",
    "x2_flat = x2.flatten() \n",
    "x3_flat = x3.flatten() \n",
    "x4_flat = x4.flatten() \n",
    "x5_flat = x5.flatten() \n",
    "x6_flat = x6.flatten() \n",
    "x7_flat = x7.flatten() \n",
    "y_flat = y.flatten() "
   ]
  },
  {
   "cell_type": "code",
   "execution_count": 8,
   "id": "1e06db40-bd3a-4602-9b4a-92bdbdc3d41b",
   "metadata": {},
   "outputs": [],
   "source": [
    "df = pd.DataFrame({ \n",
    "    'x1': x1_flat, \n",
    "    'x2': x2_flat, \n",
    "    'x3': x3_flat, \n",
    "    'x4': x4_flat, \n",
    "    'x5': x5_flat, \n",
    "    'x6': x6_flat, \n",
    "    'x7': x7_flat, \n",
    "    'y': y_flat\n",
    "})"
   ]
  },
  {
   "cell_type": "code",
   "execution_count": 9,
   "id": "3829c64e-5565-46f7-980c-b8dae0b0e916",
   "metadata": {},
   "outputs": [
    {
     "data": {
      "text/html": [
       "<div>\n",
       "<style scoped>\n",
       "    .dataframe tbody tr th:only-of-type {\n",
       "        vertical-align: middle;\n",
       "    }\n",
       "\n",
       "    .dataframe tbody tr th {\n",
       "        vertical-align: top;\n",
       "    }\n",
       "\n",
       "    .dataframe thead th {\n",
       "        text-align: right;\n",
       "    }\n",
       "</style>\n",
       "<table border=\"1\" class=\"dataframe\">\n",
       "  <thead>\n",
       "    <tr style=\"text-align: right;\">\n",
       "      <th></th>\n",
       "      <th>x1</th>\n",
       "      <th>x2</th>\n",
       "      <th>x3</th>\n",
       "      <th>x4</th>\n",
       "      <th>x5</th>\n",
       "      <th>x6</th>\n",
       "      <th>x7</th>\n",
       "      <th>y</th>\n",
       "    </tr>\n",
       "  </thead>\n",
       "  <tbody>\n",
       "    <tr>\n",
       "      <th>0</th>\n",
       "      <td>Keyboard</td>\n",
       "      <td>Green</td>\n",
       "      <td>0.345500</td>\n",
       "      <td>0.410150</td>\n",
       "      <td>0.770746</td>\n",
       "      <td>0.423092</td>\n",
       "      <td>0.810509</td>\n",
       "      <td>0</td>\n",
       "    </tr>\n",
       "    <tr>\n",
       "      <th>1</th>\n",
       "      <td>Laptop</td>\n",
       "      <td>Pink</td>\n",
       "      <td>0.808451</td>\n",
       "      <td>0.271095</td>\n",
       "      <td>0.001492</td>\n",
       "      <td>0.828367</td>\n",
       "      <td>0.331863</td>\n",
       "      <td>0</td>\n",
       "    </tr>\n",
       "    <tr>\n",
       "      <th>2</th>\n",
       "      <td>Mouse</td>\n",
       "      <td>Orange</td>\n",
       "      <td>0.344963</td>\n",
       "      <td>0.471812</td>\n",
       "      <td>0.703312</td>\n",
       "      <td>0.134540</td>\n",
       "      <td>0.443775</td>\n",
       "      <td>1</td>\n",
       "    </tr>\n",
       "    <tr>\n",
       "      <th>3</th>\n",
       "      <td>Mouse</td>\n",
       "      <td>Blue</td>\n",
       "      <td>0.196711</td>\n",
       "      <td>0.087236</td>\n",
       "      <td>0.747917</td>\n",
       "      <td>0.639264</td>\n",
       "      <td>0.582818</td>\n",
       "      <td>0</td>\n",
       "    </tr>\n",
       "    <tr>\n",
       "      <th>4</th>\n",
       "      <td>Mobile</td>\n",
       "      <td>Orange</td>\n",
       "      <td>0.858250</td>\n",
       "      <td>0.120485</td>\n",
       "      <td>0.331217</td>\n",
       "      <td>0.584541</td>\n",
       "      <td>0.046791</td>\n",
       "      <td>1</td>\n",
       "    </tr>\n",
       "  </tbody>\n",
       "</table>\n",
       "</div>"
      ],
      "text/plain": [
       "         x1      x2        x3        x4        x5        x6        x7  y\n",
       "0  Keyboard   Green  0.345500  0.410150  0.770746  0.423092  0.810509  0\n",
       "1    Laptop    Pink  0.808451  0.271095  0.001492  0.828367  0.331863  0\n",
       "2     Mouse  Orange  0.344963  0.471812  0.703312  0.134540  0.443775  1\n",
       "3     Mouse    Blue  0.196711  0.087236  0.747917  0.639264  0.582818  0\n",
       "4    Mobile  Orange  0.858250  0.120485  0.331217  0.584541  0.046791  1"
      ]
     },
     "execution_count": 9,
     "metadata": {},
     "output_type": "execute_result"
    }
   ],
   "source": [
    "df.head()"
   ]
  },
  {
   "cell_type": "code",
   "execution_count": 10,
   "id": "0ee951eb-28fc-46ff-b7cc-852b70b1fbb4",
   "metadata": {},
   "outputs": [
    {
     "data": {
      "text/plain": [
       "(10000, 8)"
      ]
     },
     "execution_count": 10,
     "metadata": {},
     "output_type": "execute_result"
    }
   ],
   "source": [
    "df.shape"
   ]
  },
  {
   "cell_type": "markdown",
   "id": "e3d2d22e-3772-4d9f-99d0-f1d983302d9f",
   "metadata": {},
   "source": [
    "#### a. Clean independent features "
   ]
  },
  {
   "cell_type": "code",
   "execution_count": 11,
   "id": "6de7b124-c704-4c62-8ea5-5a104de5e5fa",
   "metadata": {},
   "outputs": [
    {
     "data": {
      "text/html": [
       "<div>\n",
       "<style scoped>\n",
       "    .dataframe tbody tr th:only-of-type {\n",
       "        vertical-align: middle;\n",
       "    }\n",
       "\n",
       "    .dataframe tbody tr th {\n",
       "        vertical-align: top;\n",
       "    }\n",
       "\n",
       "    .dataframe thead th {\n",
       "        text-align: right;\n",
       "    }\n",
       "</style>\n",
       "<table border=\"1\" class=\"dataframe\">\n",
       "  <thead>\n",
       "    <tr style=\"text-align: right;\">\n",
       "      <th></th>\n",
       "      <th>x3</th>\n",
       "      <th>x4</th>\n",
       "      <th>x5</th>\n",
       "      <th>x6</th>\n",
       "      <th>x7</th>\n",
       "      <th>y</th>\n",
       "    </tr>\n",
       "  </thead>\n",
       "  <tbody>\n",
       "    <tr>\n",
       "      <th>count</th>\n",
       "      <td>10000.000000</td>\n",
       "      <td>10000.000000</td>\n",
       "      <td>10000.000000</td>\n",
       "      <td>10000.000000</td>\n",
       "      <td>10000.000000</td>\n",
       "      <td>10000.000000</td>\n",
       "    </tr>\n",
       "    <tr>\n",
       "      <th>mean</th>\n",
       "      <td>0.506353</td>\n",
       "      <td>0.492600</td>\n",
       "      <td>0.499740</td>\n",
       "      <td>0.498628</td>\n",
       "      <td>0.501242</td>\n",
       "      <td>0.497400</td>\n",
       "    </tr>\n",
       "    <tr>\n",
       "      <th>std</th>\n",
       "      <td>0.288709</td>\n",
       "      <td>0.287481</td>\n",
       "      <td>0.288175</td>\n",
       "      <td>0.288194</td>\n",
       "      <td>0.286863</td>\n",
       "      <td>0.500018</td>\n",
       "    </tr>\n",
       "    <tr>\n",
       "      <th>min</th>\n",
       "      <td>0.000076</td>\n",
       "      <td>0.000148</td>\n",
       "      <td>0.000063</td>\n",
       "      <td>0.000127</td>\n",
       "      <td>0.000202</td>\n",
       "      <td>0.000000</td>\n",
       "    </tr>\n",
       "    <tr>\n",
       "      <th>25%</th>\n",
       "      <td>0.255448</td>\n",
       "      <td>0.241361</td>\n",
       "      <td>0.250715</td>\n",
       "      <td>0.251760</td>\n",
       "      <td>0.256661</td>\n",
       "      <td>0.000000</td>\n",
       "    </tr>\n",
       "    <tr>\n",
       "      <th>50%</th>\n",
       "      <td>0.505418</td>\n",
       "      <td>0.491137</td>\n",
       "      <td>0.500299</td>\n",
       "      <td>0.497623</td>\n",
       "      <td>0.500647</td>\n",
       "      <td>0.000000</td>\n",
       "    </tr>\n",
       "    <tr>\n",
       "      <th>75%</th>\n",
       "      <td>0.756901</td>\n",
       "      <td>0.738347</td>\n",
       "      <td>0.748523</td>\n",
       "      <td>0.747802</td>\n",
       "      <td>0.747862</td>\n",
       "      <td>1.000000</td>\n",
       "    </tr>\n",
       "    <tr>\n",
       "      <th>max</th>\n",
       "      <td>0.999893</td>\n",
       "      <td>0.999973</td>\n",
       "      <td>0.999835</td>\n",
       "      <td>0.999935</td>\n",
       "      <td>0.999929</td>\n",
       "      <td>1.000000</td>\n",
       "    </tr>\n",
       "  </tbody>\n",
       "</table>\n",
       "</div>"
      ],
      "text/plain": [
       "                 x3            x4            x5            x6            x7  \\\n",
       "count  10000.000000  10000.000000  10000.000000  10000.000000  10000.000000   \n",
       "mean       0.506353      0.492600      0.499740      0.498628      0.501242   \n",
       "std        0.288709      0.287481      0.288175      0.288194      0.286863   \n",
       "min        0.000076      0.000148      0.000063      0.000127      0.000202   \n",
       "25%        0.255448      0.241361      0.250715      0.251760      0.256661   \n",
       "50%        0.505418      0.491137      0.500299      0.497623      0.500647   \n",
       "75%        0.756901      0.738347      0.748523      0.747802      0.747862   \n",
       "max        0.999893      0.999973      0.999835      0.999935      0.999929   \n",
       "\n",
       "                  y  \n",
       "count  10000.000000  \n",
       "mean       0.497400  \n",
       "std        0.500018  \n",
       "min        0.000000  \n",
       "25%        0.000000  \n",
       "50%        0.000000  \n",
       "75%        1.000000  \n",
       "max        1.000000  "
      ]
     },
     "execution_count": 11,
     "metadata": {},
     "output_type": "execute_result"
    }
   ],
   "source": [
    "df.describe()"
   ]
  },
  {
   "cell_type": "code",
   "execution_count": 12,
   "id": "3b845b96-9721-4519-b847-f943b20a539c",
   "metadata": {},
   "outputs": [
    {
     "name": "stdout",
     "output_type": "stream",
     "text": [
      "<class 'pandas.core.frame.DataFrame'>\n",
      "RangeIndex: 10000 entries, 0 to 9999\n",
      "Data columns (total 8 columns):\n",
      " #   Column  Non-Null Count  Dtype  \n",
      "---  ------  --------------  -----  \n",
      " 0   x1      10000 non-null  object \n",
      " 1   x2      10000 non-null  object \n",
      " 2   x3      10000 non-null  float64\n",
      " 3   x4      10000 non-null  float64\n",
      " 4   x5      10000 non-null  float64\n",
      " 5   x6      10000 non-null  float64\n",
      " 6   x7      10000 non-null  float64\n",
      " 7   y       10000 non-null  int32  \n",
      "dtypes: float64(5), int32(1), object(2)\n",
      "memory usage: 586.1+ KB\n"
     ]
    }
   ],
   "source": [
    "df.info()"
   ]
  },
  {
   "cell_type": "code",
   "execution_count": 13,
   "id": "f7d13099-cb0f-4104-bbd5-68cb5975691d",
   "metadata": {},
   "outputs": [],
   "source": [
    "from sklearn.preprocessing import LabelEncoder"
   ]
  },
  {
   "cell_type": "code",
   "execution_count": 14,
   "id": "682f245f-8c5c-43f5-9de3-c9d4354c7c5e",
   "metadata": {},
   "outputs": [],
   "source": [
    "lb = LabelEncoder()"
   ]
  },
  {
   "cell_type": "code",
   "execution_count": 15,
   "id": "ed2294fe-a746-421d-997b-2ff7751f2649",
   "metadata": {},
   "outputs": [],
   "source": [
    "df['x1'] = lb.fit_transform(df['x1'])\n",
    "df['x2'] = lb.fit_transform(df['x2'])"
   ]
  },
  {
   "cell_type": "code",
   "execution_count": 16,
   "id": "c4de1a95-50f5-43f6-8a97-1dbad57dfd4c",
   "metadata": {},
   "outputs": [
    {
     "data": {
      "text/html": [
       "<div>\n",
       "<style scoped>\n",
       "    .dataframe tbody tr th:only-of-type {\n",
       "        vertical-align: middle;\n",
       "    }\n",
       "\n",
       "    .dataframe tbody tr th {\n",
       "        vertical-align: top;\n",
       "    }\n",
       "\n",
       "    .dataframe thead th {\n",
       "        text-align: right;\n",
       "    }\n",
       "</style>\n",
       "<table border=\"1\" class=\"dataframe\">\n",
       "  <thead>\n",
       "    <tr style=\"text-align: right;\">\n",
       "      <th></th>\n",
       "      <th>x1</th>\n",
       "      <th>x2</th>\n",
       "      <th>x3</th>\n",
       "      <th>x4</th>\n",
       "      <th>x5</th>\n",
       "      <th>x6</th>\n",
       "      <th>x7</th>\n",
       "      <th>y</th>\n",
       "    </tr>\n",
       "  </thead>\n",
       "  <tbody>\n",
       "    <tr>\n",
       "      <th>0</th>\n",
       "      <td>1</td>\n",
       "      <td>2</td>\n",
       "      <td>0.345500</td>\n",
       "      <td>0.410150</td>\n",
       "      <td>0.770746</td>\n",
       "      <td>0.423092</td>\n",
       "      <td>0.810509</td>\n",
       "      <td>0</td>\n",
       "    </tr>\n",
       "    <tr>\n",
       "      <th>1</th>\n",
       "      <td>2</td>\n",
       "      <td>4</td>\n",
       "      <td>0.808451</td>\n",
       "      <td>0.271095</td>\n",
       "      <td>0.001492</td>\n",
       "      <td>0.828367</td>\n",
       "      <td>0.331863</td>\n",
       "      <td>0</td>\n",
       "    </tr>\n",
       "    <tr>\n",
       "      <th>2</th>\n",
       "      <td>4</td>\n",
       "      <td>3</td>\n",
       "      <td>0.344963</td>\n",
       "      <td>0.471812</td>\n",
       "      <td>0.703312</td>\n",
       "      <td>0.134540</td>\n",
       "      <td>0.443775</td>\n",
       "      <td>1</td>\n",
       "    </tr>\n",
       "    <tr>\n",
       "      <th>3</th>\n",
       "      <td>4</td>\n",
       "      <td>1</td>\n",
       "      <td>0.196711</td>\n",
       "      <td>0.087236</td>\n",
       "      <td>0.747917</td>\n",
       "      <td>0.639264</td>\n",
       "      <td>0.582818</td>\n",
       "      <td>0</td>\n",
       "    </tr>\n",
       "    <tr>\n",
       "      <th>4</th>\n",
       "      <td>3</td>\n",
       "      <td>3</td>\n",
       "      <td>0.858250</td>\n",
       "      <td>0.120485</td>\n",
       "      <td>0.331217</td>\n",
       "      <td>0.584541</td>\n",
       "      <td>0.046791</td>\n",
       "      <td>1</td>\n",
       "    </tr>\n",
       "  </tbody>\n",
       "</table>\n",
       "</div>"
      ],
      "text/plain": [
       "   x1  x2        x3        x4        x5        x6        x7  y\n",
       "0   1   2  0.345500  0.410150  0.770746  0.423092  0.810509  0\n",
       "1   2   4  0.808451  0.271095  0.001492  0.828367  0.331863  0\n",
       "2   4   3  0.344963  0.471812  0.703312  0.134540  0.443775  1\n",
       "3   4   1  0.196711  0.087236  0.747917  0.639264  0.582818  0\n",
       "4   3   3  0.858250  0.120485  0.331217  0.584541  0.046791  1"
      ]
     },
     "execution_count": 16,
     "metadata": {},
     "output_type": "execute_result"
    }
   ],
   "source": [
    "df.head()"
   ]
  },
  {
   "cell_type": "markdown",
   "id": "ac846502-0cec-4ba9-a2f8-8739794849a7",
   "metadata": {},
   "source": [
    "#### b. Add one more feature x8 having values between 0 and 1. "
   ]
  },
  {
   "cell_type": "code",
   "execution_count": 17,
   "id": "0cbb3deb-2409-4511-bc0f-c906e7ca0ab6",
   "metadata": {},
   "outputs": [],
   "source": [
    "x8 = np.random.rand(1, 10000)\n",
    "x8_flat = x8.flatten()"
   ]
  },
  {
   "cell_type": "code",
   "execution_count": 18,
   "id": "c27fb589-201f-48e8-9f62-d060101cc904",
   "metadata": {},
   "outputs": [],
   "source": [
    "df['x8'] = x8_flat"
   ]
  },
  {
   "cell_type": "code",
   "execution_count": 19,
   "id": "ee6953db-da5b-405b-8ad8-fee1ab63c384",
   "metadata": {},
   "outputs": [
    {
     "data": {
      "text/html": [
       "<div>\n",
       "<style scoped>\n",
       "    .dataframe tbody tr th:only-of-type {\n",
       "        vertical-align: middle;\n",
       "    }\n",
       "\n",
       "    .dataframe tbody tr th {\n",
       "        vertical-align: top;\n",
       "    }\n",
       "\n",
       "    .dataframe thead th {\n",
       "        text-align: right;\n",
       "    }\n",
       "</style>\n",
       "<table border=\"1\" class=\"dataframe\">\n",
       "  <thead>\n",
       "    <tr style=\"text-align: right;\">\n",
       "      <th></th>\n",
       "      <th>x1</th>\n",
       "      <th>x2</th>\n",
       "      <th>x3</th>\n",
       "      <th>x4</th>\n",
       "      <th>x5</th>\n",
       "      <th>x6</th>\n",
       "      <th>x7</th>\n",
       "      <th>y</th>\n",
       "      <th>x8</th>\n",
       "    </tr>\n",
       "  </thead>\n",
       "  <tbody>\n",
       "    <tr>\n",
       "      <th>0</th>\n",
       "      <td>1</td>\n",
       "      <td>2</td>\n",
       "      <td>0.345500</td>\n",
       "      <td>0.410150</td>\n",
       "      <td>0.770746</td>\n",
       "      <td>0.423092</td>\n",
       "      <td>0.810509</td>\n",
       "      <td>0</td>\n",
       "      <td>0.056650</td>\n",
       "    </tr>\n",
       "    <tr>\n",
       "      <th>1</th>\n",
       "      <td>2</td>\n",
       "      <td>4</td>\n",
       "      <td>0.808451</td>\n",
       "      <td>0.271095</td>\n",
       "      <td>0.001492</td>\n",
       "      <td>0.828367</td>\n",
       "      <td>0.331863</td>\n",
       "      <td>0</td>\n",
       "      <td>0.586784</td>\n",
       "    </tr>\n",
       "    <tr>\n",
       "      <th>2</th>\n",
       "      <td>4</td>\n",
       "      <td>3</td>\n",
       "      <td>0.344963</td>\n",
       "      <td>0.471812</td>\n",
       "      <td>0.703312</td>\n",
       "      <td>0.134540</td>\n",
       "      <td>0.443775</td>\n",
       "      <td>1</td>\n",
       "      <td>0.038207</td>\n",
       "    </tr>\n",
       "    <tr>\n",
       "      <th>3</th>\n",
       "      <td>4</td>\n",
       "      <td>1</td>\n",
       "      <td>0.196711</td>\n",
       "      <td>0.087236</td>\n",
       "      <td>0.747917</td>\n",
       "      <td>0.639264</td>\n",
       "      <td>0.582818</td>\n",
       "      <td>0</td>\n",
       "      <td>0.185102</td>\n",
       "    </tr>\n",
       "    <tr>\n",
       "      <th>4</th>\n",
       "      <td>3</td>\n",
       "      <td>3</td>\n",
       "      <td>0.858250</td>\n",
       "      <td>0.120485</td>\n",
       "      <td>0.331217</td>\n",
       "      <td>0.584541</td>\n",
       "      <td>0.046791</td>\n",
       "      <td>1</td>\n",
       "      <td>0.772015</td>\n",
       "    </tr>\n",
       "  </tbody>\n",
       "</table>\n",
       "</div>"
      ],
      "text/plain": [
       "   x1  x2        x3        x4        x5        x6        x7  y        x8\n",
       "0   1   2  0.345500  0.410150  0.770746  0.423092  0.810509  0  0.056650\n",
       "1   2   4  0.808451  0.271095  0.001492  0.828367  0.331863  0  0.586784\n",
       "2   4   3  0.344963  0.471812  0.703312  0.134540  0.443775  1  0.038207\n",
       "3   4   1  0.196711  0.087236  0.747917  0.639264  0.582818  0  0.185102\n",
       "4   3   3  0.858250  0.120485  0.331217  0.584541  0.046791  1  0.772015"
      ]
     },
     "execution_count": 19,
     "metadata": {},
     "output_type": "execute_result"
    }
   ],
   "source": [
    "df.head()"
   ]
  },
  {
   "cell_type": "markdown",
   "id": "cccfde8f-69fc-43dd-b12b-2349771b6c22",
   "metadata": {},
   "source": [
    "#### c. Perform scaling "
   ]
  },
  {
   "cell_type": "code",
   "execution_count": 20,
   "id": "2d21ab46-47fb-48a3-8f7f-6c329fe8a12e",
   "metadata": {},
   "outputs": [],
   "source": [
    "from sklearn.preprocessing import MinMaxScaler"
   ]
  },
  {
   "cell_type": "code",
   "execution_count": 23,
   "id": "c84ff01b-cf56-4289-a0a3-78eb2d4dec10",
   "metadata": {},
   "outputs": [],
   "source": [
    "scaler = MinMaxScaler()\n",
    "df[['x1', 'x2']] = scaler.fit_transform(df[['x1', 'x2']])"
   ]
  },
  {
   "cell_type": "code",
   "execution_count": 24,
   "id": "5d0b69e9-50f1-41ad-bb4c-a3c09e7707c4",
   "metadata": {},
   "outputs": [
    {
     "data": {
      "text/html": [
       "<div>\n",
       "<style scoped>\n",
       "    .dataframe tbody tr th:only-of-type {\n",
       "        vertical-align: middle;\n",
       "    }\n",
       "\n",
       "    .dataframe tbody tr th {\n",
       "        vertical-align: top;\n",
       "    }\n",
       "\n",
       "    .dataframe thead th {\n",
       "        text-align: right;\n",
       "    }\n",
       "</style>\n",
       "<table border=\"1\" class=\"dataframe\">\n",
       "  <thead>\n",
       "    <tr style=\"text-align: right;\">\n",
       "      <th></th>\n",
       "      <th>x1</th>\n",
       "      <th>x2</th>\n",
       "      <th>x3</th>\n",
       "      <th>x4</th>\n",
       "      <th>x5</th>\n",
       "      <th>x6</th>\n",
       "      <th>x7</th>\n",
       "      <th>y</th>\n",
       "      <th>x8</th>\n",
       "    </tr>\n",
       "  </thead>\n",
       "  <tbody>\n",
       "    <tr>\n",
       "      <th>0</th>\n",
       "      <td>0.25</td>\n",
       "      <td>0.50</td>\n",
       "      <td>0.345500</td>\n",
       "      <td>0.410150</td>\n",
       "      <td>0.770746</td>\n",
       "      <td>0.423092</td>\n",
       "      <td>0.810509</td>\n",
       "      <td>0</td>\n",
       "      <td>0.056650</td>\n",
       "    </tr>\n",
       "    <tr>\n",
       "      <th>1</th>\n",
       "      <td>0.50</td>\n",
       "      <td>1.00</td>\n",
       "      <td>0.808451</td>\n",
       "      <td>0.271095</td>\n",
       "      <td>0.001492</td>\n",
       "      <td>0.828367</td>\n",
       "      <td>0.331863</td>\n",
       "      <td>0</td>\n",
       "      <td>0.586784</td>\n",
       "    </tr>\n",
       "    <tr>\n",
       "      <th>2</th>\n",
       "      <td>1.00</td>\n",
       "      <td>0.75</td>\n",
       "      <td>0.344963</td>\n",
       "      <td>0.471812</td>\n",
       "      <td>0.703312</td>\n",
       "      <td>0.134540</td>\n",
       "      <td>0.443775</td>\n",
       "      <td>1</td>\n",
       "      <td>0.038207</td>\n",
       "    </tr>\n",
       "    <tr>\n",
       "      <th>3</th>\n",
       "      <td>1.00</td>\n",
       "      <td>0.25</td>\n",
       "      <td>0.196711</td>\n",
       "      <td>0.087236</td>\n",
       "      <td>0.747917</td>\n",
       "      <td>0.639264</td>\n",
       "      <td>0.582818</td>\n",
       "      <td>0</td>\n",
       "      <td>0.185102</td>\n",
       "    </tr>\n",
       "    <tr>\n",
       "      <th>4</th>\n",
       "      <td>0.75</td>\n",
       "      <td>0.75</td>\n",
       "      <td>0.858250</td>\n",
       "      <td>0.120485</td>\n",
       "      <td>0.331217</td>\n",
       "      <td>0.584541</td>\n",
       "      <td>0.046791</td>\n",
       "      <td>1</td>\n",
       "      <td>0.772015</td>\n",
       "    </tr>\n",
       "  </tbody>\n",
       "</table>\n",
       "</div>"
      ],
      "text/plain": [
       "     x1    x2        x3        x4        x5        x6        x7  y        x8\n",
       "0  0.25  0.50  0.345500  0.410150  0.770746  0.423092  0.810509  0  0.056650\n",
       "1  0.50  1.00  0.808451  0.271095  0.001492  0.828367  0.331863  0  0.586784\n",
       "2  1.00  0.75  0.344963  0.471812  0.703312  0.134540  0.443775  1  0.038207\n",
       "3  1.00  0.25  0.196711  0.087236  0.747917  0.639264  0.582818  0  0.185102\n",
       "4  0.75  0.75  0.858250  0.120485  0.331217  0.584541  0.046791  1  0.772015"
      ]
     },
     "execution_count": 24,
     "metadata": {},
     "output_type": "execute_result"
    }
   ],
   "source": [
    "df.head()"
   ]
  },
  {
   "cell_type": "markdown",
   "id": "1fd9c352-46ad-470e-863f-d40f9eacb829",
   "metadata": {},
   "source": [
    "#### d. Train this dataset using Logistic regression, Decision Tree and Random Forest. Compare the performance of all the models based on accuracy and F1 score. "
   ]
  },
  {
   "cell_type": "code",
   "execution_count": 33,
   "id": "4c045c24-c9d9-458c-b0fa-25c53569a2f1",
   "metadata": {},
   "outputs": [],
   "source": [
    "from sklearn.model_selection import train_test_split\n",
    "from sklearn.metrics import accuracy_score, f1_score"
   ]
  },
  {
   "cell_type": "code",
   "execution_count": 28,
   "id": "4d703c3e-b358-46ca-b473-572548640c1e",
   "metadata": {},
   "outputs": [],
   "source": [
    "X = df.drop('y', axis=1)\n",
    "y = df['y']"
   ]
  },
  {
   "cell_type": "code",
   "execution_count": 29,
   "id": "d02173a7-2a43-452d-b9cc-ee558b2225ab",
   "metadata": {},
   "outputs": [
    {
     "data": {
      "text/html": [
       "<div>\n",
       "<style scoped>\n",
       "    .dataframe tbody tr th:only-of-type {\n",
       "        vertical-align: middle;\n",
       "    }\n",
       "\n",
       "    .dataframe tbody tr th {\n",
       "        vertical-align: top;\n",
       "    }\n",
       "\n",
       "    .dataframe thead th {\n",
       "        text-align: right;\n",
       "    }\n",
       "</style>\n",
       "<table border=\"1\" class=\"dataframe\">\n",
       "  <thead>\n",
       "    <tr style=\"text-align: right;\">\n",
       "      <th></th>\n",
       "      <th>x1</th>\n",
       "      <th>x2</th>\n",
       "      <th>x3</th>\n",
       "      <th>x4</th>\n",
       "      <th>x5</th>\n",
       "      <th>x6</th>\n",
       "      <th>x7</th>\n",
       "      <th>x8</th>\n",
       "    </tr>\n",
       "  </thead>\n",
       "  <tbody>\n",
       "    <tr>\n",
       "      <th>0</th>\n",
       "      <td>0.25</td>\n",
       "      <td>0.50</td>\n",
       "      <td>0.345500</td>\n",
       "      <td>0.410150</td>\n",
       "      <td>0.770746</td>\n",
       "      <td>0.423092</td>\n",
       "      <td>0.810509</td>\n",
       "      <td>0.056650</td>\n",
       "    </tr>\n",
       "    <tr>\n",
       "      <th>1</th>\n",
       "      <td>0.50</td>\n",
       "      <td>1.00</td>\n",
       "      <td>0.808451</td>\n",
       "      <td>0.271095</td>\n",
       "      <td>0.001492</td>\n",
       "      <td>0.828367</td>\n",
       "      <td>0.331863</td>\n",
       "      <td>0.586784</td>\n",
       "    </tr>\n",
       "    <tr>\n",
       "      <th>2</th>\n",
       "      <td>1.00</td>\n",
       "      <td>0.75</td>\n",
       "      <td>0.344963</td>\n",
       "      <td>0.471812</td>\n",
       "      <td>0.703312</td>\n",
       "      <td>0.134540</td>\n",
       "      <td>0.443775</td>\n",
       "      <td>0.038207</td>\n",
       "    </tr>\n",
       "    <tr>\n",
       "      <th>3</th>\n",
       "      <td>1.00</td>\n",
       "      <td>0.25</td>\n",
       "      <td>0.196711</td>\n",
       "      <td>0.087236</td>\n",
       "      <td>0.747917</td>\n",
       "      <td>0.639264</td>\n",
       "      <td>0.582818</td>\n",
       "      <td>0.185102</td>\n",
       "    </tr>\n",
       "    <tr>\n",
       "      <th>4</th>\n",
       "      <td>0.75</td>\n",
       "      <td>0.75</td>\n",
       "      <td>0.858250</td>\n",
       "      <td>0.120485</td>\n",
       "      <td>0.331217</td>\n",
       "      <td>0.584541</td>\n",
       "      <td>0.046791</td>\n",
       "      <td>0.772015</td>\n",
       "    </tr>\n",
       "  </tbody>\n",
       "</table>\n",
       "</div>"
      ],
      "text/plain": [
       "     x1    x2        x3        x4        x5        x6        x7        x8\n",
       "0  0.25  0.50  0.345500  0.410150  0.770746  0.423092  0.810509  0.056650\n",
       "1  0.50  1.00  0.808451  0.271095  0.001492  0.828367  0.331863  0.586784\n",
       "2  1.00  0.75  0.344963  0.471812  0.703312  0.134540  0.443775  0.038207\n",
       "3  1.00  0.25  0.196711  0.087236  0.747917  0.639264  0.582818  0.185102\n",
       "4  0.75  0.75  0.858250  0.120485  0.331217  0.584541  0.046791  0.772015"
      ]
     },
     "execution_count": 29,
     "metadata": {},
     "output_type": "execute_result"
    }
   ],
   "source": [
    "X.head()"
   ]
  },
  {
   "cell_type": "code",
   "execution_count": 30,
   "id": "f7a3b80c-fcdd-4c08-9f73-a37e806aa8ff",
   "metadata": {},
   "outputs": [
    {
     "data": {
      "text/plain": [
       "0    0\n",
       "1    0\n",
       "2    1\n",
       "3    0\n",
       "4    1\n",
       "Name: y, dtype: int32"
      ]
     },
     "execution_count": 30,
     "metadata": {},
     "output_type": "execute_result"
    }
   ],
   "source": [
    "y.head()"
   ]
  },
  {
   "cell_type": "code",
   "execution_count": 47,
   "id": "df3883bc-b9df-42ec-8564-8549589d40ed",
   "metadata": {},
   "outputs": [],
   "source": [
    "X_train, X_test, y_train, y_test = train_test_split(X, y, test_size=0.3, random_state=42)"
   ]
  },
  {
   "cell_type": "markdown",
   "id": "f74267fe-8f64-4a3a-8c84-8dde2ecbe5a1",
   "metadata": {},
   "source": [
    "#### Logistic Regression"
   ]
  },
  {
   "cell_type": "code",
   "execution_count": 40,
   "id": "fb34c413-afb6-490a-bf12-784e81845d98",
   "metadata": {},
   "outputs": [],
   "source": [
    "from sklearn.linear_model import LogisticRegression"
   ]
  },
  {
   "cell_type": "code",
   "execution_count": 48,
   "id": "765b030f-7f9a-4f80-b349-a91a0d3c55da",
   "metadata": {},
   "outputs": [
    {
     "name": "stdout",
     "output_type": "stream",
     "text": [
      "Model: LogisticRegression\n",
      "Accuracy: 0.49566666666666664\n",
      "F1 Score: 0.4897923339083836\n"
     ]
    }
   ],
   "source": [
    "lg_model = LogisticRegression()\n",
    "lg_model.fit(X_train, y_train)\n",
    "y_pred = lg_model.predict(X_test)\n",
    "    \n",
    "accuracy = accuracy_score(y_test, y_pred)\n",
    "f1 = f1_score(y_test, y_pred, average='weighted') \n",
    "    \n",
    "print(f\"Model: {lg_model.__class__.__name__}\")\n",
    "print(f\"Accuracy: {accuracy}\")\n",
    "print(f\"F1 Score: {f1}\")"
   ]
  },
  {
   "cell_type": "markdown",
   "id": "623c6fa8-faba-47ab-97ef-1f780aaab315",
   "metadata": {},
   "source": [
    "#### Decision Tree"
   ]
  },
  {
   "cell_type": "code",
   "execution_count": 42,
   "id": "ae5aa36f-f2b3-4371-a17f-18eaccd10206",
   "metadata": {},
   "outputs": [],
   "source": [
    "from sklearn.tree import DecisionTreeClassifier"
   ]
  },
  {
   "cell_type": "code",
   "execution_count": 49,
   "id": "ba248d4d-a410-48c5-a857-4e330eac8d0c",
   "metadata": {},
   "outputs": [
    {
     "name": "stdout",
     "output_type": "stream",
     "text": [
      "Model: DecisionTreeClassifier\n",
      "Accuracy: 0.499\n",
      "F1 Score: 0.4989978289592327\n"
     ]
    }
   ],
   "source": [
    "dt_model = DecisionTreeClassifier()\n",
    "dt_model.fit(X_train, y_train)\n",
    "y_pred = dt_model.predict(X_test)\n",
    "    \n",
    "accuracy = accuracy_score(y_test, y_pred)\n",
    "f1 = f1_score(y_test, y_pred, average='weighted') \n",
    "    \n",
    "print(f\"Model: {dt_model.__class__.__name__}\")\n",
    "print(f\"Accuracy: {accuracy}\")\n",
    "print(f\"F1 Score: {f1}\")"
   ]
  },
  {
   "cell_type": "markdown",
   "id": "60254e13-ab1e-42a8-91e0-ab6408fdeecb",
   "metadata": {},
   "source": [
    "#### Random Forrest"
   ]
  },
  {
   "cell_type": "code",
   "execution_count": 51,
   "id": "6eccfbbc-d62e-4d7d-b69a-24b5a7f30d98",
   "metadata": {},
   "outputs": [],
   "source": [
    "from sklearn.ensemble import RandomForestClassifier"
   ]
  },
  {
   "cell_type": "code",
   "execution_count": 53,
   "id": "f6e14073-0682-4678-a23c-7caa7250bad4",
   "metadata": {},
   "outputs": [
    {
     "name": "stdout",
     "output_type": "stream",
     "text": [
      "Model: RandomForestClassifier\n",
      "Accuracy: 0.49366666666666664\n",
      "F1 Score: 0.493058911154247\n"
     ]
    }
   ],
   "source": [
    "rf_model = RandomForestClassifier()\n",
    "rf_model.fit(X_train, y_train)\n",
    "y_pred = rf_model.predict(X_test)\n",
    "    \n",
    "accuracy = accuracy_score(y_test, y_pred)\n",
    "f1 = f1_score(y_test, y_pred, average='weighted') \n",
    "    \n",
    "print(f\"Model: {rf_model.__class__.__name__}\")\n",
    "print(f\"Accuracy: {accuracy}\")\n",
    "print(f\"F1 Score: {f1}\")"
   ]
  },
  {
   "cell_type": "markdown",
   "id": "cf5963dd-967b-4ad2-9f0e-2c58e970b56e",
   "metadata": {},
   "source": [
    "#### e. Draw confusion matrix of each model "
   ]
  },
  {
   "cell_type": "code",
   "execution_count": 54,
   "id": "92637eba-4ebc-4574-aed1-9e25f2deca63",
   "metadata": {},
   "outputs": [],
   "source": [
    "import matplotlib.pyplot as plt\n",
    "import seaborn as sns\n",
    "from sklearn.metrics import confusion_matrix"
   ]
  },
  {
   "cell_type": "markdown",
   "id": "281d9f83-e48f-4a2f-a745-7324cfe56bff",
   "metadata": {},
   "source": [
    "#### Logistic Regression"
   ]
  },
  {
   "cell_type": "code",
   "execution_count": 56,
   "id": "f8b95755-d499-4143-91e8-771c678cba02",
   "metadata": {},
   "outputs": [
    {
     "data": {
      "image/png": "[encoded data removed]",
      "text/plain": [
       "<Figure size 800x600 with 2 Axes>"
      ]
     },
     "metadata": {},
     "output_type": "display_data"
    }
   ],
   "source": [
    "y_pred = lg_model.predict(X_test)\n",
    "cm = confusion_matrix(y_test, y_pred)\n",
    "plt.figure(figsize=(8, 6)) \n",
    "sns.heatmap(cm, annot=True, fmt=\"d\", cmap=\"Blues\", xticklabels=lg_model.classes_, yticklabels=lg_model.classes_)\n",
    "plt.title(f'Confusion Matrix for {lg_model.__class__.__name__}')\n",
    "plt.xlabel('Predicted') \n",
    "plt.ylabel('Actual') \n",
    "plt.show()"
   ]
  },
  {
   "cell_type": "markdown",
   "id": "78c94af5-acae-43dc-84c4-47a4eb73327f",
   "metadata": {},
   "source": [
    "#### Decision Tree"
   ]
  },
  {
   "cell_type": "code",
   "execution_count": 58,
   "id": "dcb15e82-91b3-475e-a994-bab447738687",
   "metadata": {},
   "outputs": [
    {
     "data": {
      "image/png": "[encoded data removed]",
      "text/plain": [
       "<Figure size 800x600 with 2 Axes>"
      ]
     },
     "metadata": {},
     "output_type": "display_data"
    }
   ],
   "source": [
    "y_pred = dt_model.predict(X_test)\n",
    "cm = confusion_matrix(y_test, y_pred)\n",
    "plt.figure(figsize=(8, 6)) \n",
    "sns.heatmap(cm, annot=True, fmt=\"d\", cmap=\"Blues\", xticklabels=dt_model.classes_, yticklabels=dt_model.classes_)\n",
    "plt.title(f'Confusion Matrix for {dt_model.__class__.__name__}')\n",
    "plt.xlabel('Predicted') \n",
    "plt.ylabel('Actual') \n",
    "plt.show()"
   ]
  },
  {
   "cell_type": "markdown",
   "id": "1fe514bf-217f-48bd-814a-a945ee60a8df",
   "metadata": {},
   "source": [
    "#### Random Forrest"
   ]
  },
  {
   "cell_type": "code",
   "execution_count": 59,
   "id": "b57ea57e-2da9-4226-ae6f-61316c79cd5f",
   "metadata": {},
   "outputs": [
    {
     "data": {
      "image/png": "[encoded data removed]",
      "text/plain": [
       "<Figure size 800x600 with 2 Axes>"
      ]
     },
     "metadata": {},
     "output_type": "display_data"
    }
   ],
   "source": [
    "y_pred = rf_model.predict(X_test)\n",
    "cm = confusion_matrix(y_test, y_pred)\n",
    "plt.figure(figsize=(8, 6)) \n",
    "sns.heatmap(cm, annot=True, fmt=\"d\", cmap=\"Blues\", xticklabels=rf_model.classes_, yticklabels=rf_model.classes_)\n",
    "plt.title(f'Confusion Matrix for {rf_model.__class__.__name__}')\n",
    "plt.xlabel('Predicted') \n",
    "plt.ylabel('Actual') \n",
    "plt.show()"
   ]
  },
  {
   "cell_type": "code",
   "execution_count": null,
   "id": "35627f83-e72d-4214-8922-4140e8e2841d",
   "metadata": {},
   "outputs": [],
   "source": []
  }
 ],
 "metadata": {
  "kernelspec": {
   "display_name": "Python 3 (ipykernel)",
   "language": "python",
   "name": "python3"
  },
  "language_info": {
   "codemirror_mode": {
    "name": "ipython",
    "version": 3
   },
   "file_extension": ".py",
   "mimetype": "text/x-python",
   "name": "python",
   "nbconvert_exporter": "python",
   "pygments_lexer": "ipython3",
   "version": "3.12.7"
  }
 },
 "nbformat": 4,
 "nbformat_minor": 5
}
