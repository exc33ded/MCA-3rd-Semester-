{
 "cells": [
  {
   "cell_type": "markdown",
   "id": "766c0be2-9d02-44e0-90bd-bee3d9a58780",
   "metadata": {},
   "source": [
    "### 2. Display inode information using ls -i and interpret the results.\n",
    "\n",
    "Command use: `ls -i`"
   ]
  },
  {
   "cell_type": "markdown",
   "id": "1768347e-778d-41dd-aa3e-4da43917e521",
   "metadata": {},
   "source": [
    "### 3. Create and delete files and directories, and observe changes in inode numbers.\n",
    "\n",
    "1. Create new folder and new file.<br>\n",
    "    Command use: `mkdir testfolder` and ` touch testfile.txt`<br>\n",
    "    Output: <b>46412 testfile.txt  46411 testfolder</b><br>\n",
    "2. Now Delete those.<br>\n",
    "    Command use: `rmdir testfolder` and `rm testfile.txt`<br>\n",
    "3. Create new folder and new file with the same name again.<br>\n",
    "    Command use: `mkdir testfolder` and ` touch testfile.txt`<br>\n",
    "    Output: <b>46412 testfile.txt  46411 testfolder</b><br>"
   ]
  },
  {
   "cell_type": "markdown",
   "id": "aa30fcfd-8cb0-43a5-b5bd-a9206b8ee313",
   "metadata": {},
   "source": [
    "### 5. Write a program in python to find alphabet/s having maximum number of instances in a given file."
   ]
  },
  {
   "cell_type": "code",
   "execution_count": 13,
   "id": "44e534ba-14a1-453f-800f-2e632545d17b",
   "metadata": {},
   "outputs": [
    {
     "name": "stdout",
     "output_type": "stream",
     "text": [
      "['w', 'e'] 5\n"
     ]
    }
   ],
   "source": [
    "try:\n",
    "    f1 = open('file1.txt', 'r+')\n",
    "    content = f1.read().lower()\n",
    "    \n",
    "    freq = {}\n",
    "    for word in content:\n",
    "        for char in word:\n",
    "            if char != \" \":\n",
    "                if char not in freq:\n",
    "                    freq[char] = 1\n",
    "                else:\n",
    "                    freq[char] += 1\n",
    "    max_count = max(freq.values())\n",
    "    max_alphabets = [char for char, count in freq.items() if count == max_count]\n",
    "\n",
    "    print(max_alphabets, max_count)\n",
    "    \n",
    "except Exception as e:\n",
    "    print('An Error has Occured:', e)\n",
    "finally:\n",
    "    f1.close()"
   ]
  },
  {
   "cell_type": "markdown",
   "id": "f0220ae2-7fd9-4ae6-8128-d21caac0c7e9",
   "metadata": {},
   "source": [
    "### 6. A file contains information about programs and courses in the following format: Program,course. Write a Python program to find the number of courses against each program.\n",
    "Eg:<br>\n",
    "Program,Course<br>\n",
    "MCA,Database<br>\n",
    "MCA,Java<br>\n",
    "M.Sc,Data Structure<br>\n",
    "B.Sc, Python<br>\n",
    "------- The output should be: MCA-2, M.Sc-01, B.Sc-01"
   ]
  },
  {
   "cell_type": "code",
   "execution_count": 14,
   "id": "fc5dabec-3660-462c-91bb-b7f39e02c7dd",
   "metadata": {},
   "outputs": [
    {
     "name": "stdout",
     "output_type": "stream",
     "text": [
      "MCA-02\n",
      "M.Sc-01\n",
      "B.Sc-01\n"
     ]
    }
   ],
   "source": [
    "program_course_count = {}\n",
    "\n",
    "with open('courses.txt', 'r') as file:\n",
    "    lines = file.readlines()\n",
    "\n",
    "for line in lines[1:]:\n",
    "    program, course = line.strip().split(',')\n",
    "    if program in program_course_count:\n",
    "        program_course_count[program] += 1\n",
    "    else:\n",
    "        program_course_count[program] = 1\n",
    "        \n",
    "for program, count in program_course_count.items():\n",
    "    print(f\"{program}-{count:02}\")"
   ]
  },
  {
   "cell_type": "markdown",
   "id": "7109d2df-7402-4ee0-8d73-9c460d60713e",
   "metadata": {},
   "source": [
    "### 7. A file contains information about employees with the following parameters: Name,Id, Salary, Dname. Write a Python program to write one more column HRA (Houserent allowances) to this file, where HRA= 18%of salary\n",
    "Eg: Suppose the existing file is as follows, where you need to add HRA column:<br>\n",
    "Name,id,salary, Dname<br>\n",
    "Amar,101,20000,Sales<br>\n",
    "Ammar,102,22000,Marketing<br>\n",
    "Rahil,103,18000,Sales<br>\n"
   ]
  },
  {
   "cell_type": "code",
   "execution_count": 15,
   "id": "b1fbdf11-e210-4ff9-b684-11a64cd0cfc4",
   "metadata": {},
   "outputs": [],
   "source": [
    "import pandas as pd"
   ]
  },
  {
   "cell_type": "code",
   "execution_count": 16,
   "id": "b1dedcdc-26c6-476b-8742-1e6e44e56b8e",
   "metadata": {},
   "outputs": [
    {
     "data": {
      "text/html": [
       "<div>\n",
       "<style scoped>\n",
       "    .dataframe tbody tr th:only-of-type {\n",
       "        vertical-align: middle;\n",
       "    }\n",
       "\n",
       "    .dataframe tbody tr th {\n",
       "        vertical-align: top;\n",
       "    }\n",
       "\n",
       "    .dataframe thead th {\n",
       "        text-align: right;\n",
       "    }\n",
       "</style>\n",
       "<table border=\"1\" class=\"dataframe\">\n",
       "  <thead>\n",
       "    <tr style=\"text-align: right;\">\n",
       "      <th></th>\n",
       "      <th>Name</th>\n",
       "      <th>id</th>\n",
       "      <th>salary</th>\n",
       "      <th>Dname</th>\n",
       "    </tr>\n",
       "  </thead>\n",
       "  <tbody>\n",
       "    <tr>\n",
       "      <th>0</th>\n",
       "      <td>Amar</td>\n",
       "      <td>101</td>\n",
       "      <td>20000</td>\n",
       "      <td>Sales</td>\n",
       "    </tr>\n",
       "    <tr>\n",
       "      <th>1</th>\n",
       "      <td>Ammar</td>\n",
       "      <td>102</td>\n",
       "      <td>22000</td>\n",
       "      <td>Marketing</td>\n",
       "    </tr>\n",
       "    <tr>\n",
       "      <th>2</th>\n",
       "      <td>Rahil</td>\n",
       "      <td>103</td>\n",
       "      <td>18000</td>\n",
       "      <td>Sales</td>\n",
       "    </tr>\n",
       "  </tbody>\n",
       "</table>\n",
       "</div>"
      ],
      "text/plain": [
       "    Name   id  salary      Dname\n",
       "0   Amar  101   20000      Sales\n",
       "1  Ammar  102   22000  Marketing\n",
       "2  Rahil  103   18000      Sales"
      ]
     },
     "execution_count": 16,
     "metadata": {},
     "output_type": "execute_result"
    }
   ],
   "source": [
    "df = pd.read_csv('employee_data.csv')\n",
    "df.head()"
   ]
  },
  {
   "cell_type": "code",
   "execution_count": 17,
   "id": "6e8357af-ba7e-4ff4-baac-ac29040185ca",
   "metadata": {},
   "outputs": [],
   "source": [
    "df['HRA'] = df['salary'] * 0.18"
   ]
  },
  {
   "cell_type": "code",
   "execution_count": 18,
   "id": "7ff4a5ba-d243-45e5-a684-6f98f1027798",
   "metadata": {},
   "outputs": [
    {
     "data": {
      "text/html": [
       "<div>\n",
       "<style scoped>\n",
       "    .dataframe tbody tr th:only-of-type {\n",
       "        vertical-align: middle;\n",
       "    }\n",
       "\n",
       "    .dataframe tbody tr th {\n",
       "        vertical-align: top;\n",
       "    }\n",
       "\n",
       "    .dataframe thead th {\n",
       "        text-align: right;\n",
       "    }\n",
       "</style>\n",
       "<table border=\"1\" class=\"dataframe\">\n",
       "  <thead>\n",
       "    <tr style=\"text-align: right;\">\n",
       "      <th></th>\n",
       "      <th>Name</th>\n",
       "      <th>id</th>\n",
       "      <th>salary</th>\n",
       "      <th>Dname</th>\n",
       "      <th>HRA</th>\n",
       "    </tr>\n",
       "  </thead>\n",
       "  <tbody>\n",
       "    <tr>\n",
       "      <th>0</th>\n",
       "      <td>Amar</td>\n",
       "      <td>101</td>\n",
       "      <td>20000</td>\n",
       "      <td>Sales</td>\n",
       "      <td>3600.0</td>\n",
       "    </tr>\n",
       "    <tr>\n",
       "      <th>1</th>\n",
       "      <td>Ammar</td>\n",
       "      <td>102</td>\n",
       "      <td>22000</td>\n",
       "      <td>Marketing</td>\n",
       "      <td>3960.0</td>\n",
       "    </tr>\n",
       "    <tr>\n",
       "      <th>2</th>\n",
       "      <td>Rahil</td>\n",
       "      <td>103</td>\n",
       "      <td>18000</td>\n",
       "      <td>Sales</td>\n",
       "      <td>3240.0</td>\n",
       "    </tr>\n",
       "  </tbody>\n",
       "</table>\n",
       "</div>"
      ],
      "text/plain": [
       "    Name   id  salary      Dname     HRA\n",
       "0   Amar  101   20000      Sales  3600.0\n",
       "1  Ammar  102   22000  Marketing  3960.0\n",
       "2  Rahil  103   18000      Sales  3240.0"
      ]
     },
     "execution_count": 18,
     "metadata": {},
     "output_type": "execute_result"
    }
   ],
   "source": [
    "df.head()"
   ]
  },
  {
   "cell_type": "code",
   "execution_count": null,
   "id": "d552ea48-8aaf-47e8-b39b-96dd628e6582",
   "metadata": {},
   "outputs": [],
   "source": []
  }
 ],
 "metadata": {
  "kernelspec": {
   "display_name": "Python 3 (ipykernel)",
   "language": "python",
   "name": "python3"
  },
  "language_info": {
   "codemirror_mode": {
    "name": "ipython",
    "version": 3
   },
   "file_extension": ".py",
   "mimetype": "text/x-python",
   "name": "python",
   "nbconvert_exporter": "python",
   "pygments_lexer": "ipython3",
   "version": "3.12.7"
  }
 },
 "nbformat": 4,
 "nbformat_minor": 5
}
