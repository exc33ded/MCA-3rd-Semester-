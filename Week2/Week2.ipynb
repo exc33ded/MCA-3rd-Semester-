{
 "cells": [
  {
   "cell_type": "markdown",
   "id": "0d9c0db1-0743-4b2c-824e-70ef636bde37",
   "metadata": {},
   "source": [
    "## 1. Write a Program to extract each digit from an integer in the reverse order"
   ]
  },
  {
   "cell_type": "code",
   "execution_count": 2,
   "id": "605de3d5-160c-4749-a019-24ef3fcc6188",
   "metadata": {},
   "outputs": [
    {
     "name": "stdin",
     "output_type": "stream",
     "text": [
      "Enter Number:  123456789\n"
     ]
    },
    {
     "name": "stdout",
     "output_type": "stream",
     "text": [
      "9 8 7 6 5 4 3 2 1 "
     ]
    }
   ],
   "source": [
    "def ques1(num):\n",
    "    numStr = str(num)\n",
    "    for i in range(len(numStr)-1, -1, -1):\n",
    "        print(int(numStr[i]), end=\" \")\n",
    "\n",
    "num = int(input(\"Enter Number: \"))\n",
    "ques1(num)"
   ]
  },
  {
   "cell_type": "markdown",
   "id": "f71ef397-cd97-4115-b631-75cbb7ed1b96",
   "metadata": {},
   "source": [
    "## 2. Write a program to count the total number of digits in a number using a while loop.\n"
   ]
  },
  {
   "cell_type": "code",
   "execution_count": 5,
   "id": "6288fa31-8cbf-433f-b640-cca95fc9e8c7",
   "metadata": {},
   "outputs": [
    {
     "name": "stdin",
     "output_type": "stream",
     "text": [
      "Enter Number:  -1223\n"
     ]
    },
    {
     "name": "stdout",
     "output_type": "stream",
     "text": [
      "The count is 4\n"
     ]
    }
   ],
   "source": [
    "def ques2(num):\n",
    "    cnt = 0\n",
    "    num = abs(num)\n",
    "    while (num != 0):\n",
    "        rem = num % 10\n",
    "        cnt += 1\n",
    "        num = num // 10\n",
    "    print(f\"The count is {cnt}\")\n",
    "    \n",
    "num = int(input(\"Enter Number: \"))\n",
    "ques2(num)"
   ]
  },
  {
   "cell_type": "markdown",
   "id": "00fab972-7518-498f-ac35-c0716b3ef0a5",
   "metadata": {},
   "source": [
    "## 3. Write a program to display all prime numbers within a range."
   ]
  },
  {
   "cell_type": "code",
   "execution_count": 12,
   "id": "9eae9b00-a3ab-4c53-ad87-4f96b4583fa5",
   "metadata": {},
   "outputs": [
    {
     "name": "stdin",
     "output_type": "stream",
     "text": [
      "Enter Range Number:  12\n"
     ]
    },
    {
     "name": "stdout",
     "output_type": "stream",
     "text": [
      "2 3 5 7 11 "
     ]
    }
   ],
   "source": [
    "def ques3(num):\n",
    "    if num < 0:\n",
    "        print('No Negative Numbers are Prime')\n",
    "    elif num == 0 or num == 1:\n",
    "        print(f'{num} is not a prime number.')\n",
    "    elif num > 1:\n",
    "        for i in range(1, num+1):\n",
    "            if i == 1:\n",
    "                continue\n",
    "            flag = True\n",
    "            for j in range(2, i // 2 + 1):\n",
    "                if i % j == 0:\n",
    "                    flag = False\n",
    "                    break\n",
    "            if flag:\n",
    "                print(i, end=\" \")\n",
    "            \n",
    "\n",
    "num = int(input(\"Enter Range Number: \"))\n",
    "ques3(num)"
   ]
  },
  {
   "cell_type": "markdown",
   "id": "b4cdc4a3-5449-4e3a-bcc1-e27dd3c6101b",
   "metadata": {},
   "source": [
    "## 4. Write a program to use the loop to find the factorial of a given number."
   ]
  },
  {
   "cell_type": "code",
   "execution_count": 17,
   "id": "98efd383-14c6-4da7-99c5-cf4d7f695ac4",
   "metadata": {},
   "outputs": [
    {
     "name": "stdin",
     "output_type": "stream",
     "text": [
      "Enter Range Number:  3\n"
     ]
    },
    {
     "name": "stdout",
     "output_type": "stream",
     "text": [
      "Factorial of 3 is 6\n"
     ]
    }
   ],
   "source": [
    "def ques4(num):\n",
    "    fact = 1\n",
    "    if num < 0:\n",
    "        print(\"Sorry, factorial does not exist for negative numbers\")\n",
    "    elif num == 0:\n",
    "        print(\"The factorial of 0 is 1\")\n",
    "    else:\n",
    "        for i in range(1, num+1):\n",
    "            fact = fact * i\n",
    "        print(f\"Factorial of {num} is {fact}\")\n",
    "            \n",
    "\n",
    "num = int(input(\"Enter Range Number: \"))\n",
    "ques4(num)"
   ]
  },
  {
   "cell_type": "markdown",
   "id": "69b1796a-1d41-48ae-acc5-b1e1a2bab106",
   "metadata": {},
   "source": [
    "## 5. Write a program to find the sum of digits of a supplied integer."
   ]
  },
  {
   "cell_type": "code",
   "execution_count": 20,
   "id": "096c8e89-fa60-4f68-85e8-0a14181120de",
   "metadata": {},
   "outputs": [
    {
     "name": "stdin",
     "output_type": "stream",
     "text": [
      "Enter Range Number:  -999\n"
     ]
    },
    {
     "name": "stdout",
     "output_type": "stream",
     "text": [
      "The sum of the digits is 27.\n"
     ]
    }
   ],
   "source": [
    "def ques5(num):\n",
    "    num = abs(num)\n",
    "    s = 0\n",
    "    while num > 0:\n",
    "        rem = num % 10\n",
    "        s += rem\n",
    "        num = num // 10\n",
    "    print(f\"The sum of the digits is {s}.\")\n",
    "            \n",
    "\n",
    "num = int(input(\"Enter Range Number: \"))\n",
    "ques5(num)"
   ]
  }
 ],
 "metadata": {
  "kernelspec": {
   "display_name": "Python 3 (ipykernel)",
   "language": "python",
   "name": "python3"
  },
  "language_info": {
   "codemirror_mode": {
    "name": "ipython",
    "version": 3
   },
   "file_extension": ".py",
   "mimetype": "text/x-python",
   "name": "python",
   "nbconvert_exporter": "python",
   "pygments_lexer": "ipython3",
   "version": "3.12.2"
  }
 },
 "nbformat": 4,
 "nbformat_minor": 5
}
