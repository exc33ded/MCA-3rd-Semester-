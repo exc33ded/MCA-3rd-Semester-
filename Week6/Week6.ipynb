{
 "cells": [
  {
   "cell_type": "markdown",
   "id": "8dc8f0ff-7958-4a2e-b60f-5ce7760c05a2",
   "metadata": {},
   "source": [
    "## 1. Write a Python program that inputs two tuples and creates a third that contains all elements of the first followed by all elements of the second."
   ]
  },
  {
   "cell_type": "code",
   "execution_count": 1,
   "id": "f716b743-d097-4236-b57c-e21f898ae76c",
   "metadata": {},
   "outputs": [
    {
     "name": "stdin",
     "output_type": "stream",
     "text": [
      "Enter elements of the first tuple separated by commas:  1,2,3,4,5\n",
      "Enter elements of the second tuple separated by commas:  6,7,8,9,0\n"
     ]
    },
    {
     "name": "stdout",
     "output_type": "stream",
     "text": [
      "The concatenated tuple is: ('1', '2', '3', '4', '5', '6', '7', '8', '9', '0')\n"
     ]
    }
   ],
   "source": [
    "def ques1():\n",
    "    tuple1 = tuple(input(\"Enter elements of the first tuple separated by commas: \").split(','))\n",
    "    tuple2 = tuple(input(\"Enter elements of the second tuple separated by commas: \").split(','))\n",
    "\n",
    "    tuple3 = tuple1 + tuple2\n",
    "    \n",
    "    print(\"The concatenated tuple is:\", tuple3)\n",
    "\n",
    "ques1()"
   ]
  },
  {
   "cell_type": "markdown",
   "id": "feb3ef18-49b3-4c30-8462-e1fe0d45369b",
   "metadata": {},
   "source": [
    "##  2. Write a Python program to create a dictionary with names and phone numbers. Then ask the user for a name and print the corresponding phone number."
   ]
  },
  {
   "cell_type": "code",
   "execution_count": 3,
   "id": "52670ff0-9464-4f53-af81-cb5ac7c13540",
   "metadata": {},
   "outputs": [
    {
     "name": "stdin",
     "output_type": "stream",
     "text": [
      "Please enter a name:  Sarim\n"
     ]
    },
    {
     "name": "stdout",
     "output_type": "stream",
     "text": [
      "Name not found in the phone book.\n"
     ]
    }
   ],
   "source": [
    "def ques2():\n",
    "    phone_book = {\n",
    "    \"Alice\": \"123-456-7890\",\n",
    "    \"Bob\": \"987-654-3210\",\n",
    "    \"Charlie\": \"555-555-5555\"\n",
    "    }\n",
    "\n",
    "    name = input(\"Please enter a name: \")\n",
    "    \n",
    "    if name in phone_book:\n",
    "        print(f\"The phone number for {name} is {phone_book[name]}.\")\n",
    "    else:\n",
    "        print(\"Name not found in the phone book.\")    \n",
    "\n",
    "ques2()"
   ]
  },
  {
   "cell_type": "markdown",
   "id": "07336f44-066d-481a-83b4-fd50b08586b9",
   "metadata": {},
   "source": [
    "## 3. Write a Python program to calculate the sum of squares of the first two digits and the last two digits of a 4-digit number, e.g., for 1233, calculate 12^2 + 33^2."
   ]
  },
  {
   "cell_type": "code",
   "execution_count": 16,
   "id": "459b3c02-746e-4963-a643-7fd9c863feb1",
   "metadata": {},
   "outputs": [
    {
     "name": "stdin",
     "output_type": "stream",
     "text": [
      "Enter number:  1233\n"
     ]
    },
    {
     "name": "stdout",
     "output_type": "stream",
     "text": [
      "Calculated 1233\n"
     ]
    }
   ],
   "source": [
    "def ques3():\n",
    "    num = int(input(\"Enter number: \"))\n",
    "    num = abs(num)\n",
    "    if len(str(num)) != 4:\n",
    "        print(\"The number is not a 4-digit number\")\n",
    "        return \n",
    "    else:\n",
    "        start = int(str(num)[:2])\n",
    "        last = int(str(num)[2:])\n",
    "        return (start**2) + (last**2)\n",
    "\n",
    "print(\"Calculated\", ques3())"
   ]
  },
  {
   "cell_type": "markdown",
   "id": "13e5cec5-8b70-455a-ade4-48a001792c1f",
   "metadata": {},
   "source": [
    "## 4. Write a program that inputs a main string and creates an encrypted string by embedding a short symbol-based string after each character. The program should also decrypt the string."
   ]
  },
  {
   "cell_type": "code",
   "execution_count": 17,
   "id": "a9243211-e15d-45f5-96b8-bc0abd3e3852",
   "metadata": {},
   "outputs": [
    {
     "name": "stdin",
     "output_type": "stream",
     "text": [
      "Enter Main String:  Sarim\n",
      "Enter Symbol-based String:  !@byif\n"
     ]
    },
    {
     "name": "stdout",
     "output_type": "stream",
     "text": [
      "Encrypted: S!@byifa!@byifr!@byifi!@byifm!@byif\n",
      "Decrypted: Sarim\n"
     ]
    }
   ],
   "source": [
    "def encrypt(main_string, symbol_string):\n",
    "    encrypted_string = \"\"\n",
    "    for char in main_string:\n",
    "        encrypted_string += char + symbol_string\n",
    "    return encrypted_string\n",
    "\n",
    "def decrypt(encrypted_string, symbol_string):\n",
    "    symbol_length = len(symbol_string)\n",
    "    decrypted_string = \"\"\n",
    "    i = 0\n",
    "    while i < len(encrypted_string):\n",
    "        decrypted_string += encrypted_string[i]\n",
    "        i += symbol_length + 1\n",
    "    return decrypted_string\n",
    "\n",
    "main_string = input(\"Enter Main String: \")\n",
    "symbol_string = input(\"Enter Symbol-based String: \")\n",
    "encrypted = encrypt(main_string, symbol_string)\n",
    "print(\"Encrypted:\", encrypted)\n",
    "\n",
    "decrypted = decrypt(encrypted, symbol_string)\n",
    "print(\"Decrypted:\", decrypted)"
   ]
  },
  {
   "cell_type": "markdown",
   "id": "398d7d09-f777-490e-b5bc-ee49a7792823",
   "metadata": {},
   "source": [
    "## 5. Write a program to get roll numbers, names, and marks of students and store these details in a file called \"Marks. data\"."
   ]
  },
  {
   "cell_type": "code",
   "execution_count": 18,
   "id": "a5052ecc-b419-4f0d-a403-87647519946b",
   "metadata": {},
   "outputs": [
    {
     "name": "stdin",
     "output_type": "stream",
     "text": [
      "Enter roll number:  115\n",
      "Enter name:  Sarim\n",
      "Enter marks:  99\n",
      "Do you want to add another student? (yes/no):  yes\n",
      "Enter roll number:  KB\n",
      "Enter name:  KB!\n",
      "Enter marks:  12\n",
      "Do you want to add another student? (yes/no):  no\n"
     ]
    },
    {
     "name": "stdout",
     "output_type": "stream",
     "text": [
      "Student details have been saved to Marks.data\n"
     ]
    }
   ],
   "source": [
    "import json\n",
    "\n",
    "def get_student_details():\n",
    "    students = {}\n",
    "    while True:\n",
    "        roll_number = input(\"Enter roll number: \")\n",
    "        name = input(\"Enter name: \")\n",
    "        marks = input(\"Enter marks: \")\n",
    "        \n",
    "        students[roll_number] = {'name': name, 'marks': marks}\n",
    "        \n",
    "        more = input(\"Do you want to add another student? (yes/no): \")\n",
    "        if more.lower() != 'yes':\n",
    "            break\n",
    "    return students\n",
    "\n",
    "def save_to_file(students, filename):\n",
    "    with open(filename, 'w') as file:\n",
    "        json.dump(students, file)\n",
    "\n",
    "def main():\n",
    "    filename = \"Marks.data\"\n",
    "    students = get_student_details()\n",
    "    save_to_file(students, filename)\n",
    "    print(f\"Student details have been saved to {filename}\")\n",
    "\n",
    "if __name__ == \"__main__\":\n",
    "    main()"
   ]
  },
  {
   "cell_type": "markdown",
   "id": "f9465d3d-4758-43e4-9aea-7bc46f7ac2b2",
   "metadata": {},
   "source": [
    "## 6. Write a program to accept a string and display:<br>a. Number of uppercase characters<br>b. Number of lowercase characters<br>c. Total number of alphabets<br>d. Number of digits"
   ]
  },
  {
   "cell_type": "code",
   "execution_count": 20,
   "id": "0d29f788-7a8d-4358-854d-6255e1c9fd86",
   "metadata": {},
   "outputs": [
    {
     "name": "stdin",
     "output_type": "stream",
     "text": [
      "Enter a string:  My name is Mohamme dSarim and i am 22 years old\n"
     ]
    },
    {
     "name": "stdout",
     "output_type": "stream",
     "text": [
      "Number of uppercase characters: 3\n",
      "Number of lowercase characters: 32\n",
      "Total number of alphabets: 35\n",
      "Number of digits: 2\n"
     ]
    }
   ],
   "source": [
    "def analyze_string(input_string):\n",
    "    uppercase_count = 0\n",
    "    lowercase_count = 0\n",
    "    digit_count = 0\n",
    "    alphabet_count = 0\n",
    "\n",
    "    for char in input_string:\n",
    "        if char.isupper():\n",
    "            uppercase_count += 1\n",
    "            alphabet_count += 1\n",
    "        elif char.islower():\n",
    "            lowercase_count += 1\n",
    "            alphabet_count += 1\n",
    "        elif char.isdigit():\n",
    "            digit_count += 1\n",
    "\n",
    "    print(\"Number of uppercase characters:\", uppercase_count)\n",
    "    print(\"Number of lowercase characters:\", lowercase_count)\n",
    "    print(\"Total number of alphabets:\", alphabet_count)\n",
    "    print(\"Number of digits:\", digit_count)\n",
    "\n",
    "input_string = input(\"Enter a string: \")\n",
    "analyze_string(input_string)"
   ]
  },
  {
   "cell_type": "code",
   "execution_count": null,
   "id": "08a03004-7b6b-47c7-abb0-0baf3b717b03",
   "metadata": {},
   "outputs": [],
   "source": []
  }
 ],
 "metadata": {
  "kernelspec": {
   "display_name": "Python 3 (ipykernel)",
   "language": "python",
   "name": "python3"
  },
  "language_info": {
   "codemirror_mode": {
    "name": "ipython",
    "version": 3
   },
   "file_extension": ".py",
   "mimetype": "text/x-python",
   "name": "python",
   "nbconvert_exporter": "python",
   "pygments_lexer": "ipython3",
   "version": "3.12.2"
  }
 },
 "nbformat": 4,
 "nbformat_minor": 5
}
