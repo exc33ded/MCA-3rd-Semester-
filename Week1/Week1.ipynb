{
 "cells": [
  {
   "cell_type": "markdown",
   "id": "3217d7dd-160d-44fe-a4da-85d5aa074ec1",
   "metadata": {},
   "source": [
    "<b>1. Write a program to find product of two usersupplied integers and if the product\n",
    "is equal to or lower than 5000 then return sum of the two numbers.<b>"
   ]
  },
  {
   "cell_type": "code",
   "execution_count": 14,
   "id": "55133b69-3ccd-4401-8897-5855d559b93c",
   "metadata": {},
   "outputs": [
    {
     "name": "stdin",
     "output_type": "stream",
     "text": [
      "Enter Integer 1:  45\n",
      "Enter Integer 2:  54\n"
     ]
    },
    {
     "name": "stdout",
     "output_type": "stream",
     "text": [
      "The Sum 99\n"
     ]
    },
    {
     "name": "stdin",
     "output_type": "stream",
     "text": [
      "Enter Integer 1:  5000\n",
      "Enter Integer 2:  63\n"
     ]
    },
    {
     "name": "stdout",
     "output_type": "stream",
     "text": [
      "Sum is more than 5000\n"
     ]
    }
   ],
   "source": [
    "def ques1():\n",
    "    x = int(input(\"Enter Integer 1: \"))\n",
    "    y = int(input(\"Enter Integer 2: \"))\n",
    "    \n",
    "    if (x * y) <= 5000:\n",
    "        print(f\"The Sum {x+y}\")\n",
    "    else:\n",
    "        print(\"Sum is more than 5000\")\n",
    "\n",
    "ques1()\n",
    "ques1()"
   ]
  },
  {
   "cell_type": "markdown",
   "id": "79c51494-ae34-4341-a4da-5d554fd3cba6",
   "metadata": {},
   "source": [
    "<b>2. Write a program to print sum of first 10 numbers.<b>"
   ]
  },
  {
   "cell_type": "code",
   "execution_count": 19,
   "id": "ec94d89b-4390-486c-98e8-a82942270db6",
   "metadata": {},
   "outputs": [
    {
     "name": "stdout",
     "output_type": "stream",
     "text": [
      "55\n"
     ]
    }
   ],
   "source": [
    "def ques2():\n",
    "    res = 0\n",
    "    for i in range(1, 11):\n",
    "        res += i\n",
    "    print(res)\n",
    "\n",
    "ques2()"
   ]
  },
  {
   "cell_type": "markdown",
   "id": "eee798fa-9814-4d22-aed6-bd7f022ca4d8",
   "metadata": {},
   "source": [
    "<b>3. Write a program to Iterate the supplied list of 20 numbers by the user and print\n",
    "only those numbers which are divisible by 5.<b>"
   ]
  },
  {
   "cell_type": "code",
   "execution_count": 24,
   "id": "5d02c3ed-e693-4866-af2d-5d6856bbf621",
   "metadata": {},
   "outputs": [
    {
     "name": "stdin",
     "output_type": "stream",
     "text": [
      ">>  1\n",
      ">>  2\n",
      ">>  3\n",
      ">>  4\n",
      ">>  5\n",
      ">>  6\n",
      ">>  7\n",
      ">>  8\n",
      ">>  9\n",
      ">>  10\n",
      ">>  10\n",
      ">>  50\n",
      ">>  25\n",
      ">>  62\n",
      ">>  1\n",
      ">>  2\n",
      ">>  3\n",
      ">>  5\n",
      ">>  9\n",
      ">>  4\n"
     ]
    },
    {
     "name": "stdout",
     "output_type": "stream",
     "text": [
      "The array is  [1, 2, 3, 4, 5, 6, 7, 8, 9, 10, 10, 50, 25, 62, 1, 2, 3, 5, 9, 4]\n",
      "Elements Divisible by 5 are:  5 10 10 50 25 5 "
     ]
    }
   ],
   "source": [
    "def ques3():\n",
    "    limit = 20\n",
    "    res = []\n",
    "    i = 0\n",
    "    while (i < limit):\n",
    "        num = int(input(\">> \"))\n",
    "        res.append(num)\n",
    "        i += 1\n",
    "    print(\"The array is \", res)\n",
    "    \n",
    "    print(\"Elements Divisible by 5 are: \", end=\" \")\n",
    "    for num in res:\n",
    "        if num % 5 == 0:\n",
    "            print(num, end=\" \")\n",
    "    \n",
    "ques3()"
   ]
  },
  {
   "cell_type": "markdown",
   "id": "21d96f74-1150-45b6-9eed-a849a5d62636",
   "metadata": {},
   "source": [
    "<b>4. Write a program to check if the given number is a palindrome number or not.\n",
    "<b>"
   ]
  },
  {
   "cell_type": "code",
   "execution_count": 25,
   "id": "6ef9c5fd-0ea8-4a5c-b23f-a4b60c7ca6ef",
   "metadata": {},
   "outputs": [
    {
     "name": "stdin",
     "output_type": "stream",
     "text": [
      "Enter Number:  101\n"
     ]
    },
    {
     "name": "stdout",
     "output_type": "stream",
     "text": [
      "The Number is Palindrome!!\n"
     ]
    },
    {
     "name": "stdin",
     "output_type": "stream",
     "text": [
      "Enter Number:  500\n"
     ]
    },
    {
     "name": "stdout",
     "output_type": "stream",
     "text": [
      "Not Palindrome!!\n"
     ]
    }
   ],
   "source": [
    "def ques4():\n",
    "    num = input(\"Enter Number: \")\n",
    "    if num == num[::-1]:\n",
    "        print(\"The Number is Palindrome!!\")\n",
    "    else:\n",
    "        print('Not Palindrome!!')\n",
    "        \n",
    "ques4()\n",
    "ques4()"
   ]
  },
  {
   "cell_type": "markdown",
   "id": "0cc8926f-b051-46a1-a013-ea76ed88d3a4",
   "metadata": {},
   "source": [
    "<b>5. Write a program to calculate the cube of all numbers from 1 to a given number<b>"
   ]
  },
  {
   "cell_type": "code",
   "execution_count": 33,
   "id": "28716c85-d659-49a1-af11-126f617e07b2",
   "metadata": {},
   "outputs": [
    {
     "name": "stdout",
     "output_type": "stream",
     "text": [
      "Enter number with spaces, press Enter to break: \n"
     ]
    },
    {
     "name": "stdin",
     "output_type": "stream",
     "text": [
      " 1 2 3 4 5 6 7 8 9 10\n"
     ]
    },
    {
     "name": "stdout",
     "output_type": "stream",
     "text": [
      "The list is ['1', '2', '3', '4', '5', '6', '7', '8', '9', '10']\n",
      "The cube of each number in the list: \n",
      "1 8 27 64 125 216 343 512 729 1000 "
     ]
    }
   ],
   "source": [
    "def ques5():\n",
    "    print(\"Enter number with spaces, press Enter to break: \")\n",
    "    res = input().split()\n",
    "    print(\"The list is\", res)\n",
    "\n",
    "    print(\"The cube of each number in the list: \")\n",
    "    for num in res:\n",
    "        prod = int(num) ** 3\n",
    "        print(prod, end=\" \")\n",
    "    \n",
    "ques5()"
   ]
  },
  {
   "cell_type": "code",
   "execution_count": null,
   "id": "d9a58848-2f15-4b9a-ac64-1311a3d46e4e",
   "metadata": {},
   "outputs": [],
   "source": []
  }
 ],
 "metadata": {
  "kernelspec": {
   "display_name": "Python 3 (ipykernel)",
   "language": "python",
   "name": "python3"
  },
  "language_info": {
   "codemirror_mode": {
    "name": "ipython",
    "version": 3
   },
   "file_extension": ".py",
   "mimetype": "text/x-python",
   "name": "python",
   "nbconvert_exporter": "python",
   "pygments_lexer": "ipython3",
   "version": "3.12.2"
  }
 },
 "nbformat": 4,
 "nbformat_minor": 5
}
