{
 "cells": [
  {
   "cell_type": "markdown",
   "id": "5bf17acf-cd24-4c7a-89cb-1c9eacc7b8b3",
   "metadata": {},
   "source": [
    "### 1. Write a simple shell script to display \"Hello, World!\" on the terminal. \n",
    "\n",
    "Command: `echo \"Hello, World!\"`"
   ]
  },
  {
   "cell_type": "markdown",
   "id": "23caf8c1-2625-4393-9c44-8a3b37b1081a",
   "metadata": {},
   "source": [
    "### 2. Write a shell script to accept user input and display it.\n",
    "\n",
    "1. First create an empty file with `.sh` extension, by writing `nano ques2.sh`.\n",
    "2. Enter the commands:<br>\n",
    "`echo \"Provide Input\"`<br>\n",
    "`read userInput`<br>\n",
    "`echo \"Output: $userInput\"`<br>\n",
    "3. Save by `CTRL + X`, then press `Y` and then `Enter`\n",
    "4. Provide excecuting permission by `chmod +x ques2.sh`\n",
    "5. Run the file by typing `./ques2.sh`"
   ]
  },
  {
   "cell_type": "markdown",
   "id": "94f92279-26e8-48d6-8062-56a8c87bde10",
   "metadata": {},
   "source": [
    "### 3. Write a shell script to demonstrate the use of variables. \n",
    "\n",
    "1. First create an empty file with `.sh` extension, by writing `nano ques3.sh`.\n",
    "2. Enter the commands:<br>\n",
    "`greeting=\"Hello\"`<br>\n",
    "`name=\"Sarim\"`<br>\n",
    "`echo \"$greeting, $name!\"`<br>\n",
    "3. Save by `CTRL + X`, then press `Y` and then `Enter`\n",
    "4. Provide excecuting permission by `chmod +x ques3.sh`\n",
    "6. Run the file by typing `./ques3.sh`"
   ]
  },
  {
   "cell_type": "markdown",
   "id": "49fb3f1a-5caa-446b-80ad-009bdd01a690",
   "metadata": {},
   "source": [
    "### 4. Write a shell script to perform basic arithmetic operations.\n",
    "\n",
    "1. First create an empty file with `.sh` extension, by writing `nano ques4.sh`.\n",
    "2. Enter the commands:<br>\n",
    "\n",
    "`echo \"Enter first number:\"`<br>\n",
    "`read num1`<br>\n",
    "`echo \"Enter second number:\"`<br>\n",
    "`read num2`<br>\n",
    "\n",
    "`sum=$((num1 + num2))`<br>\n",
    "`diff=$((num1 - num2))`<br>\n",
    "`prod=$((num1 * num2))`<br>\n",
    "\n",
    "`if [ $num2 -ne 0 ]; then`<br>\n",
    "`    quot=$((num1 / num2))`<br>\n",
    "`else`<br>\n",
    "`    quot=\"undefined (division by zero)\"`<br>\n",
    "`fi`<br>\n",
    "\n",
    "`echo \"Sum: $sum\"`<br>\n",
    "`echo \"Difference: $diff\"`<br>\n",
    "`echo \"Product: $prod\"`<br>\n",
    "`echo \"Quotient: $quot\"`<br>\n",
    "\n",
    "3. Save by `CTRL + X`, then press `Y` and then `Enter`\n",
    "4. Provide excecuting permission by `chmod +x ques4.sh`\n",
    "6. Run the file by typing `./ques4.sh`"
   ]
  },
  {
   "cell_type": "markdown",
   "id": "25930a32-ca39-426b-87d3-e4f895efbb79",
   "metadata": {},
   "source": [
    "### 5. Write a program in python to find word/s having maximum number of instances in a given file and replace all its occurrences with “Aligarh”. "
   ]
  },
  {
   "cell_type": "code",
   "execution_count": 1,
   "id": "93a70d45-912c-46db-9a38-1cb7b0450473",
   "metadata": {},
   "outputs": [
    {
     "name": "stdout",
     "output_type": "stream",
     "text": [
      "Word(s) with max occurrences: ['apple'], Count: 10\n"
     ]
    }
   ],
   "source": [
    "try:\n",
    "    f1 = open('file1.txt', 'r+')\n",
    "    content = f1.read().lower().split()\n",
    "    \n",
    "    freq = {}\n",
    "    for word in content:\n",
    "        if word not in freq:\n",
    "            freq[word] = 1\n",
    "        else:\n",
    "            freq[word] += 1\n",
    "    \n",
    "    max_count = max(freq.values())\n",
    "    max_words = [word for word, count in freq.items() if count == max_count]\n",
    "    most_frequent_word = max_words[0] \n",
    "    \n",
    "    print(f\"Word(s) with max occurrences: {max_words}, Count: {max_count}\")\n",
    "    \n",
    "    new_content = ' '.join([w.replace(most_frequent_word, \"Aligarh\") for w in content])\n",
    "    \n",
    "    f1.seek(0)\n",
    "    f1.write(new_content)\n",
    "    f1.truncate()\n",
    "except Exception as e:\n",
    "    print('An error has occurred:', e)\n",
    "finally:\n",
    "    f1.close()"
   ]
  },
  {
   "cell_type": "markdown",
   "id": "e048cd40-5179-4acf-a433-2aa918f97216",
   "metadata": {},
   "source": [
    "### 6. Consider two files that contain information about Employees and Departments in the following parameters: Employee (Name, EId, Salary, DID), Department (DID, DName, DLocation). Write a Python program to merge the content of both the file in following format.: Emp_Dep(Ename, Eid, Esalary, EDID, DName,Dlocation) (Note: Merging should follow the condition-DID of Employee file should be equal to Department ID of department file)"
   ]
  },
  {
   "cell_type": "code",
   "execution_count": 2,
   "id": "5f5f7389-2d1b-4139-8c59-616ee43be39c",
   "metadata": {},
   "outputs": [],
   "source": [
    "import pandas as pd"
   ]
  },
  {
   "cell_type": "code",
   "execution_count": 3,
   "id": "22aa929b-4555-4e79-8d0f-c13d88ccc999",
   "metadata": {},
   "outputs": [
    {
     "data": {
      "text/html": [
       "<div>\n",
       "<style scoped>\n",
       "    .dataframe tbody tr th:only-of-type {\n",
       "        vertical-align: middle;\n",
       "    }\n",
       "\n",
       "    .dataframe tbody tr th {\n",
       "        vertical-align: top;\n",
       "    }\n",
       "\n",
       "    .dataframe thead th {\n",
       "        text-align: right;\n",
       "    }\n",
       "</style>\n",
       "<table border=\"1\" class=\"dataframe\">\n",
       "  <thead>\n",
       "    <tr style=\"text-align: right;\">\n",
       "      <th></th>\n",
       "      <th>DID</th>\n",
       "      <th>DName</th>\n",
       "      <th>DLocation</th>\n",
       "    </tr>\n",
       "  </thead>\n",
       "  <tbody>\n",
       "    <tr>\n",
       "      <th>0</th>\n",
       "      <td>1</td>\n",
       "      <td>Sales</td>\n",
       "      <td>New York</td>\n",
       "    </tr>\n",
       "    <tr>\n",
       "      <th>1</th>\n",
       "      <td>2</td>\n",
       "      <td>Marketing</td>\n",
       "      <td>Chicago</td>\n",
       "    </tr>\n",
       "    <tr>\n",
       "      <th>2</th>\n",
       "      <td>3</td>\n",
       "      <td>IT</td>\n",
       "      <td>San Francisco</td>\n",
       "    </tr>\n",
       "  </tbody>\n",
       "</table>\n",
       "</div>"
      ],
      "text/plain": [
       "   DID      DName      DLocation\n",
       "0    1      Sales       New York\n",
       "1    2  Marketing        Chicago\n",
       "2    3         IT  San Francisco"
      ]
     },
     "execution_count": 3,
     "metadata": {},
     "output_type": "execute_result"
    }
   ],
   "source": [
    "df1 = pd.read_csv(\"Departments.csv\")\n",
    "df1.head()"
   ]
  },
  {
   "cell_type": "code",
   "execution_count": 5,
   "id": "a0f4146b-7eee-4504-96de-4ae06ed48b0c",
   "metadata": {},
   "outputs": [
    {
     "data": {
      "text/html": [
       "<div>\n",
       "<style scoped>\n",
       "    .dataframe tbody tr th:only-of-type {\n",
       "        vertical-align: middle;\n",
       "    }\n",
       "\n",
       "    .dataframe tbody tr th {\n",
       "        vertical-align: top;\n",
       "    }\n",
       "\n",
       "    .dataframe thead th {\n",
       "        text-align: right;\n",
       "    }\n",
       "</style>\n",
       "<table border=\"1\" class=\"dataframe\">\n",
       "  <thead>\n",
       "    <tr style=\"text-align: right;\">\n",
       "      <th></th>\n",
       "      <th>Name</th>\n",
       "      <th>EId</th>\n",
       "      <th>Salary</th>\n",
       "      <th>DID</th>\n",
       "    </tr>\n",
       "  </thead>\n",
       "  <tbody>\n",
       "    <tr>\n",
       "      <th>0</th>\n",
       "      <td>John Doe</td>\n",
       "      <td>1</td>\n",
       "      <td>50000</td>\n",
       "      <td>1</td>\n",
       "    </tr>\n",
       "    <tr>\n",
       "      <th>1</th>\n",
       "      <td>Jane Smith</td>\n",
       "      <td>2</td>\n",
       "      <td>60000</td>\n",
       "      <td>1</td>\n",
       "    </tr>\n",
       "    <tr>\n",
       "      <th>2</th>\n",
       "      <td>Bob Johnson</td>\n",
       "      <td>3</td>\n",
       "      <td>70000</td>\n",
       "      <td>2</td>\n",
       "    </tr>\n",
       "    <tr>\n",
       "      <th>3</th>\n",
       "      <td>Alice Brown</td>\n",
       "      <td>4</td>\n",
       "      <td>55000</td>\n",
       "      <td>1</td>\n",
       "    </tr>\n",
       "    <tr>\n",
       "      <th>4</th>\n",
       "      <td>Mike Davis</td>\n",
       "      <td>5</td>\n",
       "      <td>65000</td>\n",
       "      <td>3</td>\n",
       "    </tr>\n",
       "  </tbody>\n",
       "</table>\n",
       "</div>"
      ],
      "text/plain": [
       "          Name  EId  Salary  DID\n",
       "0     John Doe    1   50000    1\n",
       "1   Jane Smith    2   60000    1\n",
       "2  Bob Johnson    3   70000    2\n",
       "3  Alice Brown    4   55000    1\n",
       "4   Mike Davis    5   65000    3"
      ]
     },
     "execution_count": 5,
     "metadata": {},
     "output_type": "execute_result"
    }
   ],
   "source": [
    "df2 = pd.read_csv(\"Employees.csv\")\n",
    "df2.head()"
   ]
  },
  {
   "cell_type": "code",
   "execution_count": 7,
   "id": "8134177a-aa89-46b5-82b1-77ec024f5d7a",
   "metadata": {},
   "outputs": [
    {
     "data": {
      "text/html": [
       "<div>\n",
       "<style scoped>\n",
       "    .dataframe tbody tr th:only-of-type {\n",
       "        vertical-align: middle;\n",
       "    }\n",
       "\n",
       "    .dataframe tbody tr th {\n",
       "        vertical-align: top;\n",
       "    }\n",
       "\n",
       "    .dataframe thead th {\n",
       "        text-align: right;\n",
       "    }\n",
       "</style>\n",
       "<table border=\"1\" class=\"dataframe\">\n",
       "  <thead>\n",
       "    <tr style=\"text-align: right;\">\n",
       "      <th></th>\n",
       "      <th>Name</th>\n",
       "      <th>EId</th>\n",
       "      <th>Salary</th>\n",
       "      <th>DID</th>\n",
       "      <th>DName</th>\n",
       "      <th>DLocation</th>\n",
       "    </tr>\n",
       "  </thead>\n",
       "  <tbody>\n",
       "    <tr>\n",
       "      <th>0</th>\n",
       "      <td>John Doe</td>\n",
       "      <td>1</td>\n",
       "      <td>50000</td>\n",
       "      <td>1</td>\n",
       "      <td>Sales</td>\n",
       "      <td>New York</td>\n",
       "    </tr>\n",
       "    <tr>\n",
       "      <th>1</th>\n",
       "      <td>Jane Smith</td>\n",
       "      <td>2</td>\n",
       "      <td>60000</td>\n",
       "      <td>1</td>\n",
       "      <td>Sales</td>\n",
       "      <td>New York</td>\n",
       "    </tr>\n",
       "    <tr>\n",
       "      <th>2</th>\n",
       "      <td>Bob Johnson</td>\n",
       "      <td>3</td>\n",
       "      <td>70000</td>\n",
       "      <td>2</td>\n",
       "      <td>Marketing</td>\n",
       "      <td>Chicago</td>\n",
       "    </tr>\n",
       "    <tr>\n",
       "      <th>3</th>\n",
       "      <td>Alice Brown</td>\n",
       "      <td>4</td>\n",
       "      <td>55000</td>\n",
       "      <td>1</td>\n",
       "      <td>Sales</td>\n",
       "      <td>New York</td>\n",
       "    </tr>\n",
       "    <tr>\n",
       "      <th>4</th>\n",
       "      <td>Mike Davis</td>\n",
       "      <td>5</td>\n",
       "      <td>65000</td>\n",
       "      <td>3</td>\n",
       "      <td>IT</td>\n",
       "      <td>San Francisco</td>\n",
       "    </tr>\n",
       "  </tbody>\n",
       "</table>\n",
       "</div>"
      ],
      "text/plain": [
       "          Name  EId  Salary  DID      DName      DLocation\n",
       "0     John Doe    1   50000    1      Sales       New York\n",
       "1   Jane Smith    2   60000    1      Sales       New York\n",
       "2  Bob Johnson    3   70000    2  Marketing        Chicago\n",
       "3  Alice Brown    4   55000    1      Sales       New York\n",
       "4   Mike Davis    5   65000    3         IT  San Francisco"
      ]
     },
     "execution_count": 7,
     "metadata": {},
     "output_type": "execute_result"
    }
   ],
   "source": [
    "merged_df = pd.merge(df2, df1, on='DID')\n",
    "merged_df.head()"
   ]
  },
  {
   "cell_type": "code",
   "execution_count": 9,
   "id": "5417c65a-5816-4122-97d0-43ecb79784e4",
   "metadata": {},
   "outputs": [],
   "source": [
    "merged_df.to_csv('emp_dep.csv', index=False)"
   ]
  },
  {
   "cell_type": "code",
   "execution_count": null,
   "id": "a0802b6e-ba80-443c-b6d5-deb8eba41724",
   "metadata": {},
   "outputs": [],
   "source": []
  }
 ],
 "metadata": {
  "kernelspec": {
   "display_name": "Python 3 (ipykernel)",
   "language": "python",
   "name": "python3"
  },
  "language_info": {
   "codemirror_mode": {
    "name": "ipython",
    "version": 3
   },
   "file_extension": ".py",
   "mimetype": "text/x-python",
   "name": "python",
   "nbconvert_exporter": "python",
   "pygments_lexer": "ipython3",
   "version": "3.12.7"
  }
 },
 "nbformat": 4,
 "nbformat_minor": 5
}
