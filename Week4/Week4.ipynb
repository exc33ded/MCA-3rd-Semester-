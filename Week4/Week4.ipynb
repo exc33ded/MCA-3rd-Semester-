{
 "cells": [
  {
   "cell_type": "markdown",
   "id": "1223c80e-4441-4159-918e-8b6616ea911e",
   "metadata": {},
   "source": [
    "## 1. Write a program to create function cal_sum_sub() such that it can accept two variables and calculate addition and subtraction. Also, it must return both addition and subtraction in a single return call."
   ]
  },
  {
   "cell_type": "code",
   "execution_count": 1,
   "id": "f2e6b720-1b50-4d9d-92a1-da152978aa5e",
   "metadata": {},
   "outputs": [
    {
     "name": "stdin",
     "output_type": "stream",
     "text": [
      "Enter First Number:  1 \n",
      "Enter Second Number:  2\n"
     ]
    },
    {
     "name": "stdout",
     "output_type": "stream",
     "text": [
      "The sum and difference of 1.0 and 2.0 are 3.0 and -1.0 respectively.\n"
     ]
    }
   ],
   "source": [
    "def cal_sum_sub(num1, num2):\n",
    "    add = num1 + num2\n",
    "    sub = num1 - num2\n",
    "    return add, sub\n",
    "\n",
    "num1 = float(input(\"Enter First Number: \"))\n",
    "num2 = float(input(\"Enter Second Number: \"))\n",
    "\n",
    "print(f\"The sum and difference of {num1} and {num2} are {cal_sum_sub(num1, num2)[0]} and {cal_sum_sub(num1, num2)[1]} respectively.\")"
   ]
  },
  {
   "cell_type": "markdown",
   "id": "8f042105-4409-4218-8613-e97108bbb559",
   "metadata": {},
   "source": [
    "## 2. Write a function to return True if the first and last number of a given list is same. If numbers are different then return False."
   ]
  },
  {
   "cell_type": "code",
   "execution_count": 15,
   "id": "ba21887b-5fda-4388-912f-d3a698b043b5",
   "metadata": {},
   "outputs": [
    {
     "name": "stdout",
     "output_type": "stream",
     "text": [
      "Enter number with spaces, press Enter to break: \n"
     ]
    },
    {
     "name": "stdin",
     "output_type": "stream",
     "text": [
      " -1 4 4 5 6 7 8  -1\n"
     ]
    },
    {
     "name": "stdout",
     "output_type": "stream",
     "text": [
      "True\n"
     ]
    }
   ],
   "source": [
    "def ques2(num):\n",
    "    print(\"Enter number with spaces, press Enter to break: \")\n",
    "    lst = input().split()\n",
    "    if lst[0] == lst[-1]:\n",
    "        return True\n",
    "    else:\n",
    "        return False\n",
    "\n",
    "print(ques2(num))"
   ]
  },
  {
   "cell_type": "markdown",
   "id": "e8083b22-59f2-4d64-936a-58b8478c073d",
   "metadata": {},
   "source": [
    "## 3. Given a list of numbers. Write a program to turn every item of a list into its square. "
   ]
  },
  {
   "cell_type": "code",
   "execution_count": 18,
   "id": "86ac0788-cabc-4cdf-813c-805d64081072",
   "metadata": {},
   "outputs": [
    {
     "name": "stdout",
     "output_type": "stream",
     "text": [
      "Enter number with spaces, press Enter to break: \n"
     ]
    },
    {
     "name": "stdin",
     "output_type": "stream",
     "text": [
      " 1 2 3 4 5 6 7 8 9 0\n"
     ]
    },
    {
     "name": "stdout",
     "output_type": "stream",
     "text": [
      "[1.0, 4.0, 9.0, 16.0, 25.0, 36.0, 49.0, 64.0, 81.0, 0.0]\n"
     ]
    }
   ],
   "source": [
    "def ques3():\n",
    "    print(\"Enter number with spaces, press Enter to break: \")\n",
    "    lst = input().split()\n",
    "    for i in range(len(lst)):\n",
    "        lst[i] = float(lst[i])**2\n",
    "    print(lst)\n",
    "\n",
    "ques3()"
   ]
  },
  {
   "cell_type": "markdown",
   "id": "d11cd6f6-dbec-4801-8ccd-2b322d1974da",
   "metadata": {},
   "source": [
    "## 4. Given a two Python list. Write a program to iterate both lists simultaneously  and display items from list 1 in original order and items from list 2 in reverse  order."
   ]
  },
  {
   "cell_type": "code",
   "execution_count": 27,
   "id": "e9a495b4-6dfd-46db-a503-02ebd031a3f9",
   "metadata": {},
   "outputs": [
    {
     "name": "stdout",
     "output_type": "stream",
     "text": [
      "Enter numbers for the first list with spaces, press Enter to break: \n"
     ]
    },
    {
     "name": "stdin",
     "output_type": "stream",
     "text": [
      " 1 2 3 4 5 67 \n"
     ]
    },
    {
     "name": "stdout",
     "output_type": "stream",
     "text": [
      "Enter numbers for the second list with spaces, press Enter to break: \n"
     ]
    },
    {
     "name": "stdin",
     "output_type": "stream",
     "text": [
      " 0 9 8 7 6 5 4 3 22 2 4  \n"
     ]
    },
    {
     "name": "stdout",
     "output_type": "stream",
     "text": [
      "The Outputs is:\n",
      "1 4\n",
      "2 2\n",
      "3 22\n",
      "4 3\n",
      "5 4\n",
      "67 5\n",
      "None 6\n",
      "None 7\n",
      "None 8\n",
      "None 9\n",
      "None 0\n"
     ]
    }
   ],
   "source": [
    "def ques4():\n",
    "    print(\"Enter numbers for the first list with spaces, press Enter to break: \")\n",
    "    lst1 = input().split()\n",
    "\n",
    "    print(\"Enter numbers for the second list with spaces, press Enter to break: \")\n",
    "    lst2 = input().split()\n",
    "\n",
    "    print(\"The Outputs is:\")\n",
    "    maxlen = max(len(lst1), len(lst2))\n",
    "    i = 0\n",
    "    while i < maxlen:\n",
    "        val1 = lst1[i] if i < len(lst1) else \"None\"\n",
    "        val2 = lst2[maxlen-i-1] if maxlen-i-1 < len(lst2) else \"None\"\n",
    "        print(val1, val2)\n",
    "        i += 1\n",
    "\n",
    "ques4()"
   ]
  },
  {
   "cell_type": "markdown",
   "id": "da1ce483-fc8b-4e99-b3aa-93440307c1c7",
   "metadata": {},
   "source": [
    "## 5. Write a program to count the number of occurrences of item 50 from below tuple tp1: \n",
    "`tp1= (50, 10, 60, 70, 50) `"
   ]
  },
  {
   "cell_type": "code",
   "execution_count": 28,
   "id": "c194aac7-c3e6-4251-8ef0-4763bc525e11",
   "metadata": {},
   "outputs": [
    {
     "name": "stdout",
     "output_type": "stream",
     "text": [
      "The count is 2\n"
     ]
    }
   ],
   "source": [
    "def ques5():\n",
    "    tp1= (50, 10, 60, 70, 50)\n",
    "    cnt = 0\n",
    "    for num in tp1:\n",
    "        if num == 50:\n",
    "            cnt += 1\n",
    "    print(f\"The count is {cnt}\")\n",
    "    \n",
    "ques5()"
   ]
  },
  {
   "cell_type": "code",
   "execution_count": null,
   "id": "757bfb8f-b243-4496-937e-6ee847e05c0c",
   "metadata": {},
   "outputs": [],
   "source": []
  },
  {
   "cell_type": "code",
   "execution_count": null,
   "id": "d1db0b50-bc58-4cd4-91dd-65540d6fb17b",
   "metadata": {},
   "outputs": [],
   "source": []
  },
  {
   "cell_type": "markdown",
   "id": "940caabc-ea3d-4997-9bf6-70525f54a8ff",
   "metadata": {},
   "source": [
    "S. Alam, \"An Innovative Project Management System,\" 2019 International Conference on Information Management and Technology (ICIMTech), Jakarta/Bali, Indonesia, 2019, pp. 180-185, doi: 10.1109/ICIMTech.2019.8843768. keywords: {Project management;Geographic information systems;Mobile applications;Task analysis;Software;Engines;Government;project management system;real time;mobile application;GIS;innovative},\n",
    "\n",
    "Huljenic, Darko & Desic, Sasa & Matijasevic, Maja. (2005). Project management in research projects. 2. 663- 669. 10.1109/CONTEL.2005.185981. \n",
    "\n",
    "T. N. E. Amarasekara, H. G. P. Isurindi, E. H. D. T. D. Navanjana, O. M. Gamage, U. Samarakoon and A. Kugathasan, \"Project Zone : An Advanced Undergraduate Project Management System For Software Development,\" 2021 21st International Conference on Advances in ICT for Emerging Regions (ICter), Colombo, Sri Lanka, 2021, pp. 183-188, doi: 10.1109/ICter53630.2021.9774820.\n",
    "\n",
    "https://www.ijraset.com/research-paper/project-guidance-and-management-system"
   ]
  },
  {
   "cell_type": "code",
   "execution_count": null,
   "id": "dbce387e-b343-49a9-af52-9b649e859fb0",
   "metadata": {},
   "outputs": [],
   "source": []
  }
 ],
 "metadata": {
  "kernelspec": {
   "display_name": "Python 3 (ipykernel)",
   "language": "python",
   "name": "python3"
  },
  "language_info": {
   "codemirror_mode": {
    "name": "ipython",
    "version": 3
   },
   "file_extension": ".py",
   "mimetype": "text/x-python",
   "name": "python",
   "nbconvert_exporter": "python",
   "pygments_lexer": "ipython3",
   "version": "3.12.3"
  }
 },
 "nbformat": 4,
 "nbformat_minor": 5
}
