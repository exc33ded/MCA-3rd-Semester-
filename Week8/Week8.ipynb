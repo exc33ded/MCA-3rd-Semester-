{
 "cells": [
  {
   "cell_type": "markdown",
   "id": "b7a11a4c-6d93-480a-8860-928cd4c546c8",
   "metadata": {},
   "source": [
    "### 5. Write a python program that reads a string which contains English alphabets and numbers. The program should create two lists L1 and L2, where L1 includes all the numbers present in the string while L2 includes all the alphabets of the string."
   ]
  },
  {
   "cell_type": "code",
   "execution_count": 3,
   "id": "7401a7db-86e0-476e-b287-122ae581b51f",
   "metadata": {},
   "outputs": [
    {
     "name": "stdin",
     "output_type": "stream",
     "text": [
      "Enter A string:   My name is Sarim i was 3rd semester in 22nd year\n"
     ]
    },
    {
     "name": "stdout",
     "output_type": "stream",
     "text": [
      "The Number List:  ['3', '2', '2']\n",
      "The Alphabet List:  ['M', 'y', 'n', 'a', 'm', 'e', 'i', 's', 'S', 'a', 'r', 'i', 'm', 'i', 'w', 'a', 's', 'r', 'd', 's', 'e', 'm', 'e', 's', 't', 'e', 'r', 'i', 'n', 'n', 'd', 'y', 'e', 'a', 'r']\n"
     ]
    }
   ],
   "source": [
    "s = input(\"Enter A string: \")\n",
    "l1 = []\n",
    "l2 = []\n",
    "for c in s:\n",
    "    if c != \" \":\n",
    "        if c.isdigit():\n",
    "            l2.append(c)\n",
    "        else:\n",
    "            l1.append(c)\n",
    "print(\"The Number List: \", l2)\n",
    "print(\"The Alphabet List: \", l1)"
   ]
  },
  {
   "cell_type": "markdown",
   "id": "bb613527-1075-4bda-8075-dbdfd06b7781",
   "metadata": {},
   "source": [
    "### 6. Write a program in python to find vowels having maximum number of instances in a given file. (Note: File contains variety of data such as English alphabets, numbers etc.)."
   ]
  },
  {
   "cell_type": "code",
   "execution_count": 9,
   "id": "67be9b54-d34a-4527-8226-32656665bfcf",
   "metadata": {},
   "outputs": [
    {
     "name": "stdout",
     "output_type": "stream",
     "text": [
      "e 8\n"
     ]
    }
   ],
   "source": [
    "vowels = \"AEIOUaeiou\"\n",
    "freq = {}\n",
    "try:\n",
    "    f1 = open('content.txt', 'r')\n",
    "    for line in f1:\n",
    "        for char in line:\n",
    "            if char != \" \" and char in vowels:\n",
    "                if char not in freq:\n",
    "                   freq[char] = 1\n",
    "                else:\n",
    "                    freq[char] += 1\n",
    "\n",
    "    max_vowel = max(freq, key=freq.get)\n",
    "    print(max_vowel, freq[max_vowel])\n",
    "except Exception as e:\n",
    "    print('An error has Occured', e)\n",
    "finally:\n",
    "    f1.close()"
   ]
  },
  {
   "cell_type": "code",
   "execution_count": null,
   "id": "11f167f7-eda5-4427-bf30-cc3b050ee4ec",
   "metadata": {},
   "outputs": [],
   "source": []
  }
 ],
 "metadata": {
  "kernelspec": {
   "display_name": "Python 3 (ipykernel)",
   "language": "python",
   "name": "python3"
  },
  "language_info": {
   "codemirror_mode": {
    "name": "ipython",
    "version": 3
   },
   "file_extension": ".py",
   "mimetype": "text/x-python",
   "name": "python",
   "nbconvert_exporter": "python",
   "pygments_lexer": "ipython3",
   "version": "3.12.3"
  }
 },
 "nbformat": 4,
 "nbformat_minor": 5
}
