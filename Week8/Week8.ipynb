{
 "cells": [
  {
   "cell_type": "markdown",
   "id": "a2589eea-cf8c-4c15-9cb6-09ad143026f6",
   "metadata": {},
   "source": [
    "### 1. Display detailed information about files using ls -l and other ls options.\n",
    "\n",
    "`ls` --> Lists the names of files and directories<br>\n",
    "`ls -l` --> Provides detailed information about files and directories<br>\n",
    "`ls -a` --> Shows all files, including hidden ones<br>\n",
    "`ls -h` --> Displays file sizes in human-readable format<br>\n",
    "`ls -t` --> orts files and directories by modification time, newest first"
   ]
  },
  {
   "cell_type": "markdown",
   "id": "b9ad107f-6e73-4eb8-acdc-b3a797b6e376",
   "metadata": {},
   "source": [
    "### 2. Change file ownership using chown and group ownership using chgrp.\n",
    "Step 1: Create a Test File<br>\n",
    "`touch ~/testfile.txt`\n",
    "\n",
    "Step 2: Check Current Ownership<br>\n",
    "`ls -l ~/testfile.txt`<br>\n",
    "Output: `-rw-r--r-- 1 sarim sarim 0 Oct  9 21:55 /home/sarim/testfile.txt`\n",
    "\n",
    "Step 3: Change File Ownership<br>\n",
    "Create a new user and group for testing, if you haven't already:<br>\n",
    "`sudo adduser testuser`<br>\n",
    "`sudo addgroup testgroup`<br>\n",
    "\n",
    "Now change the file's owner and group:<br>\n",
    "`sudo chown testuser:testgroup ~/testfile.txt`<br>\n",
    "`ls -l ~/testfile.txt`<br>\n",
    "Output:`-rw-r--r-- 1 testuser testgroup 0 Oct  9 21:55 /home/sarim/testfile.txt`<br>\n",
    "\n",
    "Step 3: Change Both Owner and Group<br>\n",
    "`sudo chown sarim:testgroup testfile.txt`<br>\n",
    "`ls -l testfile.txt`<br>\n",
    "Output:`-rw-r--r-- 1 sarim testgroup 0 Oct  9 21:55 testfile.txt`<br>\n",
    "\n",
    "------------------------------\n",
    "Delete the Test User<br>\n",
    "`sudo deluser testuser`\n",
    "\n",
    "Delete the Test Group<br>\n",
    "`sudo delgroup testgroup`"
   ]
  },
  {
   "cell_type": "markdown",
   "id": "a9eed452-fec9-4b05-a222-0c4377d36e4d",
   "metadata": {},
   "source": [
    "### 3. Modify file and directory permissions using chmod.\n",
    "Step 1: Create a Test File<br>\n",
    "`touch ~/testfile.txt`\n",
    "\n",
    "Step 2: Modify file for read only<br>\n",
    "`chmod 444 ~/testfile.txt`<br>\n",
    "`ls -l ~/testfile.txt`<br>\n",
    "Output:`-r--r--r-- 1 sarim 1002 0 Oct  9 21:55 /home/sarim/testfile.txt`<br>\n",
    "\n",
    "Step 3: Modify file to write<br>\n",
    "`chmod u+w ~/testfile.txt`<br>\n",
    "`ls -l ~/testfile.txt`<br>\n",
    "Output:`-rw-r--r-- 1 sarim 1002 0 Oct  9 21:55 /home/sarim/testfile.txt`<br>"
   ]
  },
  {
   "cell_type": "markdown",
   "id": "7e3ca2e0-43dc-4345-af8b-d0abf4d8ed41",
   "metadata": {},
   "source": [
    "### 4. Demonstrate how to set and remove directory permissions.\n",
    "Step 1: Create a Directory<br>\n",
    "`mkdir ~/testdir`\n",
    "\n",
    "Step 2: Give read, write, and execute permissions to the owner, and read and execute permissions to others:<br>\n",
    "`chmod 755 ~/testdir`<br>\n",
    "`ls -ld ~/testdir`<br>\n",
    "Output: `drwxr-xr-x 2 sarim sarim 4096 Oct  9 22:17 /home/sarim/testdir`\n",
    "\n",
    "Step 3: Remove write permission for the owner<br>\n",
    "`chmod u-w ~/testdir`<br>\n",
    "`ls -ld ~/testdir`<br>\n",
    "Output:`dr-xr-xr-x 2 sarim sarim 4096 Oct  9 22:17 /home/sarim/testdir`<br>\n",
    "\n",
    "Step 4: Remove execute permission for the group and others<br>\n",
    "`chmod go-x ~/testdir`<br>\n",
    "`ls -ld ~/testdir`<br>\n",
    "Output:`dr-xr--r-- 2 sarim sarim 4096 Oct  9 22:17 /home/sarim/testdir`<br>"
   ]
  },
  {
   "cell_type": "markdown",
   "id": "b7a11a4c-6d93-480a-8860-928cd4c546c8",
   "metadata": {},
   "source": [
    "### 5. Write a python program that reads a string which contains English alphabets and numbers. The program should create two lists L1 and L2, where L1 includes all the numbers present in the string while L2 includes all the alphabets of the string."
   ]
  },
  {
   "cell_type": "code",
   "execution_count": 1,
   "id": "7401a7db-86e0-476e-b287-122ae581b51f",
   "metadata": {},
   "outputs": [
    {
     "name": "stdin",
     "output_type": "stream",
     "text": [
      "Enter A string:  My name is Mohammed Sarim and I am 22 years old\n"
     ]
    },
    {
     "name": "stdout",
     "output_type": "stream",
     "text": [
      "The Number List:  ['2', '2']\n",
      "The Alphabet List:  ['M', 'y', 'n', 'a', 'm', 'e', 'i', 's', 'M', 'o', 'h', 'a', 'm', 'm', 'e', 'd', 'S', 'a', 'r', 'i', 'm', 'a', 'n', 'd', 'I', 'a', 'm', 'y', 'e', 'a', 'r', 's', 'o', 'l', 'd']\n"
     ]
    }
   ],
   "source": [
    "s = input(\"Enter A string: \")\n",
    "l1 = []\n",
    "l2 = []\n",
    "for c in s:\n",
    "    if c != \" \":\n",
    "        if c.isdigit():\n",
    "            l2.append(c)\n",
    "        else:\n",
    "            l1.append(c)\n",
    "print(\"The Number List: \", l2)\n",
    "print(\"The Alphabet List: \", l1)"
   ]
  },
  {
   "cell_type": "markdown",
   "id": "bb613527-1075-4bda-8075-dbdfd06b7781",
   "metadata": {},
   "source": [
    "### 6. Write a program in python to find vowels having maximum number of instances in a given file. (Note: File contains variety of data such as English alphabets, numbers etc.)."
   ]
  },
  {
   "cell_type": "code",
   "execution_count": 2,
   "id": "67be9b54-d34a-4527-8226-32656665bfcf",
   "metadata": {},
   "outputs": [
    {
     "name": "stdout",
     "output_type": "stream",
     "text": [
      "e 8\n"
     ]
    }
   ],
   "source": [
    "vowels = \"AEIOUaeiou\"\n",
    "freq = {}\n",
    "try:\n",
    "    f1 = open('content.txt', 'r')\n",
    "    for line in f1:\n",
    "        for char in line:\n",
    "            if char != \" \" and char in vowels:\n",
    "                if char not in freq:\n",
    "                   freq[char] = 1\n",
    "                else:\n",
    "                    freq[char] += 1\n",
    "\n",
    "    max_vowel = max(freq, key=freq.get)\n",
    "    print(max_vowel, freq[max_vowel])\n",
    "except Exception as e:\n",
    "    print('An error has Occured', e)\n",
    "finally:\n",
    "    f1.close()"
   ]
  },
  {
   "cell_type": "markdown",
   "id": "1b19c65d-cb0d-439e-934d-87fade3d6299",
   "metadata": {},
   "source": [
    "### Write a Python program to create a list of user’s supplied distinct integers having even number of elements. The program further creates two lists of equal lengths based on the original list, where first list is having all elements less than elements of second list. Display both the lists."
   ]
  },
  {
   "cell_type": "code",
   "execution_count": 5,
   "id": "ddb8476c-a8dc-4eb7-a6f0-04c8be12ee8f",
   "metadata": {},
   "outputs": [
    {
     "name": "stdin",
     "output_type": "stream",
     "text": [
      "Enter Elements Seprated by spaces: 10 9 8 7 6 5 4 3 2 1\n"
     ]
    },
    {
     "name": "stdout",
     "output_type": "stream",
     "text": [
      "[1, 2, 3, 4, 5]\n",
      "[6, 7, 8, 9, 10]\n"
     ]
    }
   ],
   "source": [
    "lst = list(map(int, input(\"Enter Elements Seprated by spaces:\").split()))\n",
    "if len(lst) % 2 != 0:\n",
    "    print(\"The list don't have even number of elements.\")\n",
    "else:\n",
    "    lst.sort()\n",
    "    mid = len(lst)//2\n",
    "    lst1 = lst[:mid]\n",
    "    lst2 = lst[mid:]\n",
    "    print(lst1)\n",
    "    print(lst2)"
   ]
  }
 ],
 "metadata": {
  "kernelspec": {
   "display_name": "Python 3 (ipykernel)",
   "language": "python",
   "name": "python3"
  },
  "language_info": {
   "codemirror_mode": {
    "name": "ipython",
    "version": 3
   },
   "file_extension": ".py",
   "mimetype": "text/x-python",
   "name": "python",
   "nbconvert_exporter": "python",
   "pygments_lexer": "ipython3",
   "version": "3.12.2"
  }
 },
 "nbformat": 4,
 "nbformat_minor": 5
}
