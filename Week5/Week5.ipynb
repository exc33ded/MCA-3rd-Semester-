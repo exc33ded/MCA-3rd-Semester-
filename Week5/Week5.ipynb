{
 "cells": [
  {
   "cell_type": "markdown",
   "id": "4ac3a442-8449-482d-89a6-b610c20fb2ae",
   "metadata": {},
   "source": [
    "## 1. Write a program to generate 6 digit random secure OTP."
   ]
  },
  {
   "cell_type": "code",
   "execution_count": 15,
   "id": "4fe25139-dd6f-44f1-94c9-b5a9f5bc66ce",
   "metadata": {},
   "outputs": [
    {
     "name": "stdout",
     "output_type": "stream",
     "text": [
      "The Random generated OTP is 941467\n"
     ]
    }
   ],
   "source": [
    "import random\n",
    "\n",
    "def ques1():\n",
    "    i = 0\n",
    "    res = \"\"\n",
    "    while (i < 6):\n",
    "        randDigit = random.randint(0, 9)\n",
    "        res += str(randDigit)\n",
    "        i += 1\n",
    "    return int(res)\n",
    "    \n",
    "print(\"The Random generated OTP is\", ques1())"
   ]
  },
  {
   "cell_type": "markdown",
   "id": "c530d8e0-45f2-4312-b211-70c03b98b5ec",
   "metadata": {},
   "source": [
    "## 2. Write a program to pick a random character from a given String supplied by the user."
   ]
  },
  {
   "cell_type": "code",
   "execution_count": 20,
   "id": "3ecbbe75-bd7e-473d-b3a3-7b42dac8bd9f",
   "metadata": {},
   "outputs": [
    {
     "name": "stdin",
     "output_type": "stream",
     "text": [
      "Enter String:  qw\n"
     ]
    },
    {
     "name": "stdout",
     "output_type": "stream",
     "text": [
      "The random character is w\n"
     ]
    }
   ],
   "source": [
    "import random \n",
    "\n",
    "def ques2(string):\n",
    "    ranIdx = random.randint(0, len(string)-1)\n",
    "    print(f\"The random character is {string[ranIdx]}\")\n",
    "\n",
    "string = input(\"Enter String: \")\n",
    "ques2(string)"
   ]
  },
  {
   "cell_type": "markdown",
   "id": "e76a9444-05ce-4a9a-8cfc-8941b92856cf",
   "metadata": {},
   "source": [
    "## 3. Write a program to generate a random Password which meets the following conditions\n",
    "## a. Password length must be 10 characters long.\n",
    "## b. It must contain at least 2 upper case letters, 1 digit, and 1 special symbol."
   ]
  },
  {
   "cell_type": "code",
   "execution_count": 24,
   "id": "afd9cd51-ce36-4cab-b6e2-6cb2b6c951ff",
   "metadata": {},
   "outputs": [
    {
     "name": "stdout",
     "output_type": "stream",
     "text": [
      "The Random passowrd is ~Bd74y4~P(\n"
     ]
    }
   ],
   "source": [
    "import random\n",
    "\n",
    "def ques3(length=10):\n",
    "    \n",
    "    upper_case = \"ABCDEFGHIJKLMNOPQRSTUVWXYZ\"\n",
    "    lower_case = \"abcdefghijklmnopqrstuvwxyz\"\n",
    "    digits = \"0123456789\"\n",
    "    special_symbols = \"!@#$%^&*()-_=+[]{}|;:',.<>?/`~\"\n",
    "    \n",
    "    password = [\n",
    "        random.choice(upper_case),\n",
    "        random.choice(upper_case),\n",
    "        random.choice(digits),\n",
    "        random.choice(special_symbols)\n",
    "    ]\n",
    "    \n",
    "    all_characters = upper_case + lower_case + digits + special_symbols\n",
    "    password += random.choices(all_characters, k=length-4)\n",
    "\n",
    "    random.shuffle(password)\n",
    "    return ''.join(password)\n",
    "\n",
    "\n",
    "print(\"The Random passowrd is\", ques3())"
   ]
  },
  {
   "cell_type": "markdown",
   "id": "bfbc3796-7b3f-43f7-a6a9-d86ce76b7594",
   "metadata": {},
   "source": [
    "## 4. Given a two list of numbers, write a program to create a new list such that the new list should contain odd numbers from the first list and even numbers from the second list"
   ]
  },
  {
   "cell_type": "code",
   "execution_count": 26,
   "id": "48e5c143-75f3-4965-a144-9ebf1d2b1219",
   "metadata": {},
   "outputs": [
    {
     "name": "stdin",
     "output_type": "stream",
     "text": [
      "Enter numbers with spaces for list 1:  1 2 3 4 5 6 7 8 9\n",
      "Enter numbers with spaces for list 2:  11 22 3 34 45 5 6 6 7 7\n"
     ]
    },
    {
     "name": "stdout",
     "output_type": "stream",
     "text": [
      "[1, 22, 3, 34, 5, 7, 6, 6, 9]\n"
     ]
    }
   ],
   "source": [
    "def ques4(lst1, lst2):\n",
    "    EvenOddLst = []\n",
    "    for x, y in zip(lst1, lst2):\n",
    "        if x % 2 != 0:\n",
    "            EvenOddLst.append(x)\n",
    "        if y % 2 == 0:\n",
    "            EvenOddLst.append(y)\n",
    "    return EvenOddLst\n",
    "\n",
    "# Read input and convert to lists of integers\n",
    "lst1 = list(map(int, input(\"Enter numbers with spaces for list 1: \").split()))\n",
    "lst2 = list(map(int, input(\"Enter numbers with spaces for list 2: \").split()))\n",
    "\n",
    "print(ques4(lst1, lst2))"
   ]
  },
  {
   "cell_type": "markdown",
   "id": "726cd03c-44e8-4b13-94eb-e601fefa4aae",
   "metadata": {},
   "source": [
    "## 5. Write a program to create a numpy array and return array of odd rows and even columns from the numpy array.\n"
   ]
  },
  {
   "cell_type": "code",
   "execution_count": 9,
   "id": "7b1cd118-2058-4e3f-a6aa-8afb9a29d633",
   "metadata": {},
   "outputs": [
    {
     "name": "stdin",
     "output_type": "stream",
     "text": [
      "Enter the number of rows:  5\n",
      "Enter the number of columns:  5\n"
     ]
    },
    {
     "name": "stdout",
     "output_type": "stream",
     "text": [
      "Original Array:\n",
      "[[ 1  2  3  4  5]\n",
      " [ 6  7  8  9 10]\n",
      " [11 12 13 14 15]\n",
      " [16 17 18 19 20]\n",
      " [21 22 23 24 25]]\n",
      "\n",
      "Array of odd rows and even columns:\n",
      "Odd Rows:\n",
      "[[ 1  2  3  4  5]\n",
      " [11 12 13 14 15]\n",
      " [21 22 23 24 25]]\n",
      "Even Columns:\n",
      "[[ 2  4]\n",
      " [ 7  9]\n",
      " [12 14]\n",
      " [17 19]\n",
      " [22 24]]\n"
     ]
    }
   ],
   "source": [
    "import numpy as np\n",
    "\n",
    "def create_array(rows, cols):\n",
    "    array = np.arange(1, rows * cols + 1).reshape(rows, cols)\n",
    "    return array\n",
    "\n",
    "def odd_rows_even_cols(array):\n",
    "    print(\"Odd Rows:\")\n",
    "    print(array[::2])\n",
    "    print(\"Even Columns:\")\n",
    "    print(array[:,1::2])\n",
    "\n",
    "if __name__ == \"__main__\":\n",
    "    rows = int(input(\"Enter the number of rows: \"))\n",
    "    cols = int(input(\"Enter the number of columns: \"))\n",
    "\n",
    "    array = create_array(rows, cols)\n",
    "\n",
    "    print(\"Original Array:\")\n",
    "    print(array)\n",
    "    print(\"\\nArray of odd rows and even columns:\")\n",
    "    odd_rows_even_cols(array)"
   ]
  },
  {
   "cell_type": "markdown",
   "id": "81c3976b-81cb-4fca-972c-8fc725247358",
   "metadata": {},
   "source": [
    "## Write a program create a numpy array and sort as per below cases:\n",
    "## a. Case 1: Sort array by the second row.\n",
    "## b. Case 2: Sort the array by the second column"
   ]
  },
  {
   "cell_type": "code",
   "execution_count": 3,
   "id": "bfd1488e-2438-4b78-84e8-9680bf264da6",
   "metadata": {},
   "outputs": [
    {
     "name": "stdin",
     "output_type": "stream",
     "text": [
      "Enter the number of rows:  3\n",
      "Enter the number of columns:  3\n"
     ]
    },
    {
     "name": "stdout",
     "output_type": "stream",
     "text": [
      "Original Array:\n",
      "[[21 42 53]\n",
      " [99 68 52]\n",
      " [21 77 60]]\n",
      "\n",
      "Array sorted by the second row:\n",
      "[[53 42 21]\n",
      " [52 68 99]\n",
      " [60 77 21]]\n",
      "\n",
      "Array sorted by the second column:\n",
      "[[21 42 53]\n",
      " [99 68 52]\n",
      " [21 77 60]]\n"
     ]
    }
   ],
   "source": [
    "import numpy as np\n",
    "\n",
    "def create_array(rows, cols):\n",
    "    array = np.random.randint(1, 100, size=(rows, cols))\n",
    "    return array\n",
    "\n",
    "def sort_by_second_row(array):\n",
    "    return array[:, array[1, :].argsort()]\n",
    "\n",
    "def sort_by_second_column(array):\n",
    "    return array[array[:, 1].argsort()]\n",
    "\n",
    "if __name__ == \"__main__\":\n",
    "    rows = int(input(\"Enter the number of rows: \"))\n",
    "    cols = int(input(\"Enter the number of columns: \"))\n",
    "\n",
    "    array = create_array(rows, cols)\n",
    "\n",
    "    print(\"Original Array:\")\n",
    "    print(array)\n",
    "\n",
    "    # Sort by the second row\n",
    "    sorted_by_row = sort_by_second_row(array)\n",
    "    print(\"\\nArray sorted by the second row:\")\n",
    "    print(sorted_by_row)\n",
    "\n",
    "    # Sort by the second column\n",
    "    sorted_by_column = sort_by_second_column(array)\n",
    "    print(\"\\nArray sorted by the second column:\")\n",
    "    print(sorted_by_column)"
   ]
  },
  {
   "cell_type": "code",
   "execution_count": null,
   "id": "2e184834-305c-4368-b0a7-ebc32bfec01f",
   "metadata": {},
   "outputs": [],
   "source": []
  }
 ],
 "metadata": {
  "kernelspec": {
   "display_name": "Python 3 (ipykernel)",
   "language": "python",
   "name": "python3"
  },
  "language_info": {
   "codemirror_mode": {
    "name": "ipython",
    "version": 3
   },
   "file_extension": ".py",
   "mimetype": "text/x-python",
   "name": "python",
   "nbconvert_exporter": "python",
   "pygments_lexer": "ipython3",
   "version": "3.12.2"
  }
 },
 "nbformat": 4,
 "nbformat_minor": 5
}
