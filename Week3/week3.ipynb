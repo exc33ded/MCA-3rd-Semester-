{
 "cells": [
  {
   "cell_type": "markdown",
   "id": "169750e7-53c0-47d3-a5a0-3deb9b103eaf",
   "metadata": {},
   "source": [
    "## 1. Write a program to print the following pattern using the for loop:\n",
    "5 4 3 2 1 <br>\n",
    "4 3 2 1 <br>\n",
    "3 2 1 <br>\n",
    "2 1 <br>\n",
    "1\n"
   ]
  },
  {
   "cell_type": "code",
   "execution_count": 2,
   "id": "0cbf85d8-4336-43cf-a9fb-a8a63ec19780",
   "metadata": {},
   "outputs": [
    {
     "name": "stdin",
     "output_type": "stream",
     "text": [
      "Enter Number:  5\n"
     ]
    },
    {
     "name": "stdout",
     "output_type": "stream",
     "text": [
      "5 4 3 2 1 \n",
      "4 3 2 1 \n",
      "3 2 1 \n",
      "2 1 \n",
      "1 \n"
     ]
    }
   ],
   "source": [
    "def ques1(num):\n",
    "    for i in range(num, 0, -1):\n",
    "        for j in range(i, 0, -1):\n",
    "            print(j, end=\" \")\n",
    "        print()\n",
    "        \n",
    "num = int(input(\"Enter Number: \"))\n",
    "ques1(num)"
   ]
  },
  {
   "cell_type": "markdown",
   "id": "55b850ed-d9ea-4b38-9f4d-db66a69dd538",
   "metadata": {},
   "source": [
    "## 2. Write a program to print the following start pattern using the for loop:\n",
    "`*`<br> \n",
    "`* *`<br>\n",
    "`* * *`<br>\n",
    "`* * * *`<br>\n",
    "`* * * * *`<br>\n",
    "`* * * *`<br>\n",
    "`* * *`<br>\n",
    "`* *`<br>\n",
    "`*`"
   ]
  },
  {
   "cell_type": "code",
   "execution_count": 3,
   "id": "261b2259-a670-4559-961d-08fbfee37fa5",
   "metadata": {},
   "outputs": [
    {
     "name": "stdin",
     "output_type": "stream",
     "text": [
      "Enter Number:  5\n"
     ]
    },
    {
     "name": "stdout",
     "output_type": "stream",
     "text": [
      "* \n",
      "* * \n",
      "* * * \n",
      "* * * * \n",
      "* * * * * \n",
      "* * * * \n",
      "* * * \n",
      "* * \n",
      "* \n"
     ]
    }
   ],
   "source": [
    "def ques2(num):\n",
    "    for i in range(1, num + 1):\n",
    "        print('* ' * i)\n",
    "    for i in range(num - 1, 0, -1):\n",
    "        print('* ' * i)\n",
    "        \n",
    "num = int(input(\"Enter Number: \"))\n",
    "ques2(num)"
   ]
  },
  {
   "cell_type": "markdown",
   "id": "2f94f7e5-6628-4ad9-a2ce-049986c7acb0",
   "metadata": {},
   "source": [
    "## 3. Write a program to print characters from a string which are present at an even index numbers"
   ]
  },
  {
   "cell_type": "code",
   "execution_count": 4,
   "id": "f342230c-1b99-4e8c-b744-c0f31016fe54",
   "metadata": {},
   "outputs": [
    {
     "name": "stdin",
     "output_type": "stream",
     "text": [
      "Enter Number:  qwertyuiop\n"
     ]
    },
    {
     "name": "stdout",
     "output_type": "stream",
     "text": [
      "q e t u o "
     ]
    }
   ],
   "source": [
    "def ques3(string):\n",
    "    for i in range(len(string)):\n",
    "        if i % 2 == 0:\n",
    "            print(string[i], end=\" \")\n",
    "        \n",
    "string = input(\"Enter Number: \")\n",
    "ques3(string)"
   ]
  },
  {
   "cell_type": "markdown",
   "id": "e1c4d73d-0f08-4bdf-8d17-9c714dee7a33",
   "metadata": {},
   "source": [
    "## 4. Write a program to accept a string from the user and display characters that are present at an even index number. "
   ]
  },
  {
   "cell_type": "code",
   "execution_count": 5,
   "id": "811d9684-670a-4154-80af-a45dd98277f6",
   "metadata": {},
   "outputs": [
    {
     "name": "stdin",
     "output_type": "stream",
     "text": [
      "Enter Number:  qwertyuiop\n"
     ]
    },
    {
     "name": "stdout",
     "output_type": "stream",
     "text": [
      "q e t u o "
     ]
    }
   ],
   "source": [
    "def ques4(string):\n",
    "    for i in range(len(string)):\n",
    "        if i % 2 == 0:\n",
    "            print(string[i], end=\" \")\n",
    "        \n",
    "string = input(\"Enter Number: \")\n",
    "ques4(string)"
   ]
  },
  {
   "cell_type": "markdown",
   "id": "a501cede-60f5-461a-acba-3ed96ae71bc1",
   "metadata": {},
   "source": [
    "## 5. Write a program to remove characters from a string starting from n to last and  return a new string."
   ]
  },
  {
   "cell_type": "code",
   "execution_count": 12,
   "id": "4b683ca7-11ea-4739-8192-f81122bef7e3",
   "metadata": {},
   "outputs": [
    {
     "name": "stdin",
     "output_type": "stream",
     "text": [
      "Enter String:  aligarh\n",
      "Enter an Integer Number:  7\n"
     ]
    },
    {
     "name": "stdout",
     "output_type": "stream",
     "text": [
      "aligar\n"
     ]
    }
   ],
   "source": [
    "def ques5(string, num):\n",
    "    if num > len(string) or num < 0:\n",
    "        print(\"Cannot remove character\")\n",
    "    else:\n",
    "        print(string[:num-1])\n",
    "\n",
    "string = input(\"Enter String: \")\n",
    "num = int(input(\"Enter an Integer Number: \"))\n",
    "ques5(string, num)"
   ]
  },
  {
   "cell_type": "markdown",
   "id": "991c8f1f-9726-4315-b5cb-c5a865b9d921",
   "metadata": {},
   "source": []
  }
 ],
 "metadata": {
  "kernelspec": {
   "display_name": "Python 3 (ipykernel)",
   "language": "python",
   "name": "python3"
  },
  "language_info": {
   "codemirror_mode": {
    "name": "ipython",
    "version": 3
   },
   "file_extension": ".py",
   "mimetype": "text/x-python",
   "name": "python",
   "nbconvert_exporter": "python",
   "pygments_lexer": "ipython3",
   "version": "3.12.3"
  }
 },
 "nbformat": 4,
 "nbformat_minor": 5
}
